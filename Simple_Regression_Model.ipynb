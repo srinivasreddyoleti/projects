{
  "nbformat": 4,
  "nbformat_minor": 0,
  "metadata": {
    "colab": {
      "provenance": [],
      "collapsed_sections": [],
      "authorship_tag": "ABX9TyNTIE+E8Nq9r+SIq0gouv2H",
      "include_colab_link": true
    },
    "kernelspec": {
      "name": "python3",
      "display_name": "Python 3"
    },
    "language_info": {
      "name": "python"
    }
  },
  "cells": [
    {
      "cell_type": "markdown",
      "metadata": {
        "id": "view-in-github",
        "colab_type": "text"
      },
      "source": [
        "<a href=\"https://colab.research.google.com/github/srinivasreddyoleti/projects/blob/main/Simple_Regression_Model.ipynb\" target=\"_parent\"><img src=\"https://colab.research.google.com/assets/colab-badge.svg\" alt=\"Open In Colab\"/></a>"
      ]
    },
    {
      "cell_type": "markdown",
      "source": [
        "#Bulding a Simple Linear Regression Model on Python"
      ],
      "metadata": {
        "id": "WpdqSBqfWYlw"
      }
    },
    {
      "cell_type": "markdown",
      "source": [
        "#Import Relevant Libraries"
      ],
      "metadata": {
        "id": "JEUqU6ebW0LU"
      }
    },
    {
      "cell_type": "code",
      "execution_count": null,
      "metadata": {
        "id": "f6l2_4zJVZNp"
      },
      "outputs": [],
      "source": [
        "import pandas as pd\n",
        "import numpy as np\n",
        "import matplotlib.pyplot as plt\n",
        "%matplotlib inline\n",
        "from sklearn.linear_model import LinearRegression\n",
        "from sklearn.metrics import r2_score"
      ]
    },
    {
      "cell_type": "markdown",
      "source": [
        "#Import data and prepare\n"
      ],
      "metadata": {
        "id": "1U9JlWWYZmoq"
      }
    },
    {
      "cell_type": "code",
      "source": [
        "from google.colab import files\n",
        "uploaded=files.upload()\n"
      ],
      "metadata": {
        "id": "gMBQdw9DZlbk",
        "colab": {
          "base_uri": "https://localhost:8080/",
          "height": 73
        },
        "outputId": "236a4de7-4486-4034-ee81-287fcf5fc801"
      },
      "execution_count": null,
      "outputs": [
        {
          "output_type": "display_data",
          "data": {
            "text/plain": [
              "<IPython.core.display.HTML object>"
            ],
            "text/html": [
              "\n",
              "     <input type=\"file\" id=\"files-0273c4de-5b38-47bc-999e-4d4dc177140f\" name=\"files[]\" multiple disabled\n",
              "        style=\"border:none\" />\n",
              "     <output id=\"result-0273c4de-5b38-47bc-999e-4d4dc177140f\">\n",
              "      Upload widget is only available when the cell has been executed in the\n",
              "      current browser session. Please rerun this cell to enable.\n",
              "      </output>\n",
              "      <script>// Copyright 2017 Google LLC\n",
              "//\n",
              "// Licensed under the Apache License, Version 2.0 (the \"License\");\n",
              "// you may not use this file except in compliance with the License.\n",
              "// You may obtain a copy of the License at\n",
              "//\n",
              "//      http://www.apache.org/licenses/LICENSE-2.0\n",
              "//\n",
              "// Unless required by applicable law or agreed to in writing, software\n",
              "// distributed under the License is distributed on an \"AS IS\" BASIS,\n",
              "// WITHOUT WARRANTIES OR CONDITIONS OF ANY KIND, either express or implied.\n",
              "// See the License for the specific language governing permissions and\n",
              "// limitations under the License.\n",
              "\n",
              "/**\n",
              " * @fileoverview Helpers for google.colab Python module.\n",
              " */\n",
              "(function(scope) {\n",
              "function span(text, styleAttributes = {}) {\n",
              "  const element = document.createElement('span');\n",
              "  element.textContent = text;\n",
              "  for (const key of Object.keys(styleAttributes)) {\n",
              "    element.style[key] = styleAttributes[key];\n",
              "  }\n",
              "  return element;\n",
              "}\n",
              "\n",
              "// Max number of bytes which will be uploaded at a time.\n",
              "const MAX_PAYLOAD_SIZE = 100 * 1024;\n",
              "\n",
              "function _uploadFiles(inputId, outputId) {\n",
              "  const steps = uploadFilesStep(inputId, outputId);\n",
              "  const outputElement = document.getElementById(outputId);\n",
              "  // Cache steps on the outputElement to make it available for the next call\n",
              "  // to uploadFilesContinue from Python.\n",
              "  outputElement.steps = steps;\n",
              "\n",
              "  return _uploadFilesContinue(outputId);\n",
              "}\n",
              "\n",
              "// This is roughly an async generator (not supported in the browser yet),\n",
              "// where there are multiple asynchronous steps and the Python side is going\n",
              "// to poll for completion of each step.\n",
              "// This uses a Promise to block the python side on completion of each step,\n",
              "// then passes the result of the previous step as the input to the next step.\n",
              "function _uploadFilesContinue(outputId) {\n",
              "  const outputElement = document.getElementById(outputId);\n",
              "  const steps = outputElement.steps;\n",
              "\n",
              "  const next = steps.next(outputElement.lastPromiseValue);\n",
              "  return Promise.resolve(next.value.promise).then((value) => {\n",
              "    // Cache the last promise value to make it available to the next\n",
              "    // step of the generator.\n",
              "    outputElement.lastPromiseValue = value;\n",
              "    return next.value.response;\n",
              "  });\n",
              "}\n",
              "\n",
              "/**\n",
              " * Generator function which is called between each async step of the upload\n",
              " * process.\n",
              " * @param {string} inputId Element ID of the input file picker element.\n",
              " * @param {string} outputId Element ID of the output display.\n",
              " * @return {!Iterable<!Object>} Iterable of next steps.\n",
              " */\n",
              "function* uploadFilesStep(inputId, outputId) {\n",
              "  const inputElement = document.getElementById(inputId);\n",
              "  inputElement.disabled = false;\n",
              "\n",
              "  const outputElement = document.getElementById(outputId);\n",
              "  outputElement.innerHTML = '';\n",
              "\n",
              "  const pickedPromise = new Promise((resolve) => {\n",
              "    inputElement.addEventListener('change', (e) => {\n",
              "      resolve(e.target.files);\n",
              "    });\n",
              "  });\n",
              "\n",
              "  const cancel = document.createElement('button');\n",
              "  inputElement.parentElement.appendChild(cancel);\n",
              "  cancel.textContent = 'Cancel upload';\n",
              "  const cancelPromise = new Promise((resolve) => {\n",
              "    cancel.onclick = () => {\n",
              "      resolve(null);\n",
              "    };\n",
              "  });\n",
              "\n",
              "  // Wait for the user to pick the files.\n",
              "  const files = yield {\n",
              "    promise: Promise.race([pickedPromise, cancelPromise]),\n",
              "    response: {\n",
              "      action: 'starting',\n",
              "    }\n",
              "  };\n",
              "\n",
              "  cancel.remove();\n",
              "\n",
              "  // Disable the input element since further picks are not allowed.\n",
              "  inputElement.disabled = true;\n",
              "\n",
              "  if (!files) {\n",
              "    return {\n",
              "      response: {\n",
              "        action: 'complete',\n",
              "      }\n",
              "    };\n",
              "  }\n",
              "\n",
              "  for (const file of files) {\n",
              "    const li = document.createElement('li');\n",
              "    li.append(span(file.name, {fontWeight: 'bold'}));\n",
              "    li.append(span(\n",
              "        `(${file.type || 'n/a'}) - ${file.size} bytes, ` +\n",
              "        `last modified: ${\n",
              "            file.lastModifiedDate ? file.lastModifiedDate.toLocaleDateString() :\n",
              "                                    'n/a'} - `));\n",
              "    const percent = span('0% done');\n",
              "    li.appendChild(percent);\n",
              "\n",
              "    outputElement.appendChild(li);\n",
              "\n",
              "    const fileDataPromise = new Promise((resolve) => {\n",
              "      const reader = new FileReader();\n",
              "      reader.onload = (e) => {\n",
              "        resolve(e.target.result);\n",
              "      };\n",
              "      reader.readAsArrayBuffer(file);\n",
              "    });\n",
              "    // Wait for the data to be ready.\n",
              "    let fileData = yield {\n",
              "      promise: fileDataPromise,\n",
              "      response: {\n",
              "        action: 'continue',\n",
              "      }\n",
              "    };\n",
              "\n",
              "    // Use a chunked sending to avoid message size limits. See b/62115660.\n",
              "    let position = 0;\n",
              "    do {\n",
              "      const length = Math.min(fileData.byteLength - position, MAX_PAYLOAD_SIZE);\n",
              "      const chunk = new Uint8Array(fileData, position, length);\n",
              "      position += length;\n",
              "\n",
              "      const base64 = btoa(String.fromCharCode.apply(null, chunk));\n",
              "      yield {\n",
              "        response: {\n",
              "          action: 'append',\n",
              "          file: file.name,\n",
              "          data: base64,\n",
              "        },\n",
              "      };\n",
              "\n",
              "      let percentDone = fileData.byteLength === 0 ?\n",
              "          100 :\n",
              "          Math.round((position / fileData.byteLength) * 100);\n",
              "      percent.textContent = `${percentDone}% done`;\n",
              "\n",
              "    } while (position < fileData.byteLength);\n",
              "  }\n",
              "\n",
              "  // All done.\n",
              "  yield {\n",
              "    response: {\n",
              "      action: 'complete',\n",
              "    }\n",
              "  };\n",
              "}\n",
              "\n",
              "scope.google = scope.google || {};\n",
              "scope.google.colab = scope.google.colab || {};\n",
              "scope.google.colab._files = {\n",
              "  _uploadFiles,\n",
              "  _uploadFilesContinue,\n",
              "};\n",
              "})(self);\n",
              "</script> "
            ]
          },
          "metadata": {}
        },
        {
          "output_type": "stream",
          "name": "stdout",
          "text": [
            "Saving Hitters1.xlsx to Hitters1 (1).xlsx\n"
          ]
        }
      ]
    },
    {
      "cell_type": "code",
      "source": [
        "df=pd.read_excel(\"Hitters1.xlsx\")"
      ],
      "metadata": {
        "id": "eM7IDvXBaL9_"
      },
      "execution_count": null,
      "outputs": []
    },
    {
      "cell_type": "code",
      "source": [
        "df.head(20)"
      ],
      "metadata": {
        "id": "Kw7wKxjIbAFO",
        "colab": {
          "base_uri": "https://localhost:8080/",
          "height": 677
        },
        "outputId": "42fcdfc3-ef98-4144-a2bb-a6452c1dddeb"
      },
      "execution_count": null,
      "outputs": [
        {
          "output_type": "execute_result",
          "data": {
            "text/plain": [
              "    Price   Demand\n",
              "0      3.0    6791\n",
              "1      3.6    5988\n",
              "2     40.0     354\n",
              "3     21.0     651\n",
              "4      4.0    7111\n",
              "5     30.0     406\n",
              "6     29.0     577\n",
              "7     18.0     655\n",
              "8      9.0    2891\n",
              "9      6.0    5589\n",
              "10     5.0    6707\n",
              "11     8.0    4081\n",
              "12    15.0    2702\n",
              "13    32.0     370\n",
              "14    20.0    1251\n",
              "15    10.0    3140\n",
              "16    17.0    2469\n",
              "17     7.0    4909\n",
              "18    39.0     396\n",
              "19     4.0    7017"
            ],
            "text/html": [
              "\n",
              "  <div id=\"df-f85f9711-5a48-4af3-8951-71853d6d0187\">\n",
              "    <div class=\"colab-df-container\">\n",
              "      <div>\n",
              "<style scoped>\n",
              "    .dataframe tbody tr th:only-of-type {\n",
              "        vertical-align: middle;\n",
              "    }\n",
              "\n",
              "    .dataframe tbody tr th {\n",
              "        vertical-align: top;\n",
              "    }\n",
              "\n",
              "    .dataframe thead th {\n",
              "        text-align: right;\n",
              "    }\n",
              "</style>\n",
              "<table border=\"1\" class=\"dataframe\">\n",
              "  <thead>\n",
              "    <tr style=\"text-align: right;\">\n",
              "      <th></th>\n",
              "      <th>Price</th>\n",
              "      <th>Demand</th>\n",
              "    </tr>\n",
              "  </thead>\n",
              "  <tbody>\n",
              "    <tr>\n",
              "      <th>0</th>\n",
              "      <td>3.0</td>\n",
              "      <td>6791</td>\n",
              "    </tr>\n",
              "    <tr>\n",
              "      <th>1</th>\n",
              "      <td>3.6</td>\n",
              "      <td>5988</td>\n",
              "    </tr>\n",
              "    <tr>\n",
              "      <th>2</th>\n",
              "      <td>40.0</td>\n",
              "      <td>354</td>\n",
              "    </tr>\n",
              "    <tr>\n",
              "      <th>3</th>\n",
              "      <td>21.0</td>\n",
              "      <td>651</td>\n",
              "    </tr>\n",
              "    <tr>\n",
              "      <th>4</th>\n",
              "      <td>4.0</td>\n",
              "      <td>7111</td>\n",
              "    </tr>\n",
              "    <tr>\n",
              "      <th>5</th>\n",
              "      <td>30.0</td>\n",
              "      <td>406</td>\n",
              "    </tr>\n",
              "    <tr>\n",
              "      <th>6</th>\n",
              "      <td>29.0</td>\n",
              "      <td>577</td>\n",
              "    </tr>\n",
              "    <tr>\n",
              "      <th>7</th>\n",
              "      <td>18.0</td>\n",
              "      <td>655</td>\n",
              "    </tr>\n",
              "    <tr>\n",
              "      <th>8</th>\n",
              "      <td>9.0</td>\n",
              "      <td>2891</td>\n",
              "    </tr>\n",
              "    <tr>\n",
              "      <th>9</th>\n",
              "      <td>6.0</td>\n",
              "      <td>5589</td>\n",
              "    </tr>\n",
              "    <tr>\n",
              "      <th>10</th>\n",
              "      <td>5.0</td>\n",
              "      <td>6707</td>\n",
              "    </tr>\n",
              "    <tr>\n",
              "      <th>11</th>\n",
              "      <td>8.0</td>\n",
              "      <td>4081</td>\n",
              "    </tr>\n",
              "    <tr>\n",
              "      <th>12</th>\n",
              "      <td>15.0</td>\n",
              "      <td>2702</td>\n",
              "    </tr>\n",
              "    <tr>\n",
              "      <th>13</th>\n",
              "      <td>32.0</td>\n",
              "      <td>370</td>\n",
              "    </tr>\n",
              "    <tr>\n",
              "      <th>14</th>\n",
              "      <td>20.0</td>\n",
              "      <td>1251</td>\n",
              "    </tr>\n",
              "    <tr>\n",
              "      <th>15</th>\n",
              "      <td>10.0</td>\n",
              "      <td>3140</td>\n",
              "    </tr>\n",
              "    <tr>\n",
              "      <th>16</th>\n",
              "      <td>17.0</td>\n",
              "      <td>2469</td>\n",
              "    </tr>\n",
              "    <tr>\n",
              "      <th>17</th>\n",
              "      <td>7.0</td>\n",
              "      <td>4909</td>\n",
              "    </tr>\n",
              "    <tr>\n",
              "      <th>18</th>\n",
              "      <td>39.0</td>\n",
              "      <td>396</td>\n",
              "    </tr>\n",
              "    <tr>\n",
              "      <th>19</th>\n",
              "      <td>4.0</td>\n",
              "      <td>7017</td>\n",
              "    </tr>\n",
              "  </tbody>\n",
              "</table>\n",
              "</div>\n",
              "      <button class=\"colab-df-convert\" onclick=\"convertToInteractive('df-f85f9711-5a48-4af3-8951-71853d6d0187')\"\n",
              "              title=\"Convert this dataframe to an interactive table.\"\n",
              "              style=\"display:none;\">\n",
              "        \n",
              "  <svg xmlns=\"http://www.w3.org/2000/svg\" height=\"24px\"viewBox=\"0 0 24 24\"\n",
              "       width=\"24px\">\n",
              "    <path d=\"M0 0h24v24H0V0z\" fill=\"none\"/>\n",
              "    <path d=\"M18.56 5.44l.94 2.06.94-2.06 2.06-.94-2.06-.94-.94-2.06-.94 2.06-2.06.94zm-11 1L8.5 8.5l.94-2.06 2.06-.94-2.06-.94L8.5 2.5l-.94 2.06-2.06.94zm10 10l.94 2.06.94-2.06 2.06-.94-2.06-.94-.94-2.06-.94 2.06-2.06.94z\"/><path d=\"M17.41 7.96l-1.37-1.37c-.4-.4-.92-.59-1.43-.59-.52 0-1.04.2-1.43.59L10.3 9.45l-7.72 7.72c-.78.78-.78 2.05 0 2.83L4 21.41c.39.39.9.59 1.41.59.51 0 1.02-.2 1.41-.59l7.78-7.78 2.81-2.81c.8-.78.8-2.07 0-2.86zM5.41 20L4 18.59l7.72-7.72 1.47 1.35L5.41 20z\"/>\n",
              "  </svg>\n",
              "      </button>\n",
              "      \n",
              "  <style>\n",
              "    .colab-df-container {\n",
              "      display:flex;\n",
              "      flex-wrap:wrap;\n",
              "      gap: 12px;\n",
              "    }\n",
              "\n",
              "    .colab-df-convert {\n",
              "      background-color: #E8F0FE;\n",
              "      border: none;\n",
              "      border-radius: 50%;\n",
              "      cursor: pointer;\n",
              "      display: none;\n",
              "      fill: #1967D2;\n",
              "      height: 32px;\n",
              "      padding: 0 0 0 0;\n",
              "      width: 32px;\n",
              "    }\n",
              "\n",
              "    .colab-df-convert:hover {\n",
              "      background-color: #E2EBFA;\n",
              "      box-shadow: 0px 1px 2px rgba(60, 64, 67, 0.3), 0px 1px 3px 1px rgba(60, 64, 67, 0.15);\n",
              "      fill: #174EA6;\n",
              "    }\n",
              "\n",
              "    [theme=dark] .colab-df-convert {\n",
              "      background-color: #3B4455;\n",
              "      fill: #D2E3FC;\n",
              "    }\n",
              "\n",
              "    [theme=dark] .colab-df-convert:hover {\n",
              "      background-color: #434B5C;\n",
              "      box-shadow: 0px 1px 3px 1px rgba(0, 0, 0, 0.15);\n",
              "      filter: drop-shadow(0px 1px 2px rgba(0, 0, 0, 0.3));\n",
              "      fill: #FFFFFF;\n",
              "    }\n",
              "  </style>\n",
              "\n",
              "      <script>\n",
              "        const buttonEl =\n",
              "          document.querySelector('#df-f85f9711-5a48-4af3-8951-71853d6d0187 button.colab-df-convert');\n",
              "        buttonEl.style.display =\n",
              "          google.colab.kernel.accessAllowed ? 'block' : 'none';\n",
              "\n",
              "        async function convertToInteractive(key) {\n",
              "          const element = document.querySelector('#df-f85f9711-5a48-4af3-8951-71853d6d0187');\n",
              "          const dataTable =\n",
              "            await google.colab.kernel.invokeFunction('convertToInteractive',\n",
              "                                                     [key], {});\n",
              "          if (!dataTable) return;\n",
              "\n",
              "          const docLinkHtml = 'Like what you see? Visit the ' +\n",
              "            '<a target=\"_blank\" href=https://colab.research.google.com/notebooks/data_table.ipynb>data table notebook</a>'\n",
              "            + ' to learn more about interactive tables.';\n",
              "          element.innerHTML = '';\n",
              "          dataTable['output_type'] = 'display_data';\n",
              "          await google.colab.output.renderOutput(dataTable, element);\n",
              "          const docLink = document.createElement('div');\n",
              "          docLink.innerHTML = docLinkHtml;\n",
              "          element.appendChild(docLink);\n",
              "        }\n",
              "      </script>\n",
              "    </div>\n",
              "  </div>\n",
              "  "
            ]
          },
          "metadata": {},
          "execution_count": 33
        }
      ]
    },
    {
      "cell_type": "markdown",
      "source": [
        "#Mark the response(Dependent) varible(Y) and predictor(Independent) variable(x)"
      ],
      "metadata": {
        "id": "VGZP8Gq9bJzZ"
      }
    },
    {
      "cell_type": "code",
      "source": [
        "x=df.iloc[:,0].values\n",
        "y=df.iloc[:,1].values\n",
        "x,y"
      ],
      "metadata": {
        "id": "6JPXUeV5bHCZ",
        "colab": {
          "base_uri": "https://localhost:8080/"
        },
        "outputId": "d272537f-eddd-4907-ccd0-de4a9b2b759f"
      },
      "execution_count": null,
      "outputs": [
        {
          "output_type": "execute_result",
          "data": {
            "text/plain": [
              "(array([ 3. ,  3.6, 40. , 21. ,  4. , 30. , 29. , 18. ,  9. ,  6. ,  5. ,\n",
              "         8. , 15. , 32. , 20. , 10. , 17. ,  7. , 39. ,  4. , 35. , 39. ,\n",
              "        44. , 40. , 25. ,  8. ,  5. ,  8. , 10. , 14. , 26. ]),\n",
              " array([6791, 5988,  354,  651, 7111,  406,  577,  655, 2891, 5589, 6707,\n",
              "        4081, 2702,  370, 1251, 3140, 2469, 4909,  396, 7017,  484,  297,\n",
              "         141,  193, 2801, 3731, 7444, 3910, 2678, 1833, 2946]))"
            ]
          },
          "metadata": {},
          "execution_count": 34
        }
      ]
    },
    {
      "cell_type": "markdown",
      "source": [
        "#check wheather there is a linear pattern between x and y"
      ],
      "metadata": {
        "id": "9YtL8HpQb3Q0"
      }
    },
    {
      "cell_type": "code",
      "source": [
        "plt.scatter(x,y)\n",
        "z=np.polyfit(x,y,1)\n",
        "p=np.poly1d(z)\n",
        "plt.plot(x,p(x),color='red',linewidth=3)"
      ],
      "metadata": {
        "id": "5p5a-gawcCNd",
        "colab": {
          "base_uri": "https://localhost:8080/",
          "height": 282
        },
        "outputId": "abecec8f-bc18-4cff-a057-72c6f1e099a8"
      },
      "execution_count": null,
      "outputs": [
        {
          "output_type": "execute_result",
          "data": {
            "text/plain": [
              "[<matplotlib.lines.Line2D at 0x7f775ff7cd90>]"
            ]
          },
          "metadata": {},
          "execution_count": 35
        },
        {
          "output_type": "display_data",
          "data": {
            "text/plain": [
              "<Figure size 432x288 with 1 Axes>"
            ],
            "image/png": "[encoded data removed]"
          },
          "metadata": {
            "needs_background": "light"
          }
        }
      ]
    },
    {
      "cell_type": "markdown",
      "source": [
        "#Fitting a Simple Regression Model"
      ],
      "metadata": {
        "id": "SgG0jnytdJht"
      }
    },
    {
      "cell_type": "markdown",
      "source": [
        "#reshape your data using array.reshape(-1,1), if your data has one feature"
      ],
      "metadata": {
        "id": "WbAqKn7idPmx"
      }
    },
    {
      "cell_type": "code",
      "source": [
        "regressor=LinearRegression()\n",
        "regressor.fit(x.reshape(-1,1),y.reshape(-1,1))"
      ],
      "metadata": {
        "id": "Qw9b_iTodbsN",
        "colab": {
          "base_uri": "https://localhost:8080/"
        },
        "outputId": "3ba53d58-2267-4d8a-ca4a-6653f9028f71"
      },
      "execution_count": null,
      "outputs": [
        {
          "output_type": "execute_result",
          "data": {
            "text/plain": [
              "LinearRegression()"
            ]
          },
          "metadata": {},
          "execution_count": 36
        }
      ]
    },
    {
      "cell_type": "markdown",
      "source": [
        "#Output"
      ],
      "metadata": {
        "id": "86GZ4o5FjVQ3"
      }
    },
    {
      "cell_type": "code",
      "source": [
        "regressor.coef_\n"
      ],
      "metadata": {
        "id": "UReiOkHfdyA0",
        "colab": {
          "base_uri": "https://localhost:8080/"
        },
        "outputId": "a1dbb400-a806-4e28-cd55-ae778b2e55b1"
      },
      "execution_count": null,
      "outputs": [
        {
          "output_type": "execute_result",
          "data": {
            "text/plain": [
              "array([[-157.70087387]])"
            ]
          },
          "metadata": {},
          "execution_count": 37
        }
      ]
    },
    {
      "cell_type": "code",
      "source": [
        "regressor.intercept_"
      ],
      "metadata": {
        "id": "1nlEYrC4fSL0",
        "colab": {
          "base_uri": "https://localhost:8080/"
        },
        "outputId": "03f6546f-ef8e-472a-b3b0-021498319f77"
      },
      "execution_count": null,
      "outputs": [
        {
          "output_type": "execute_result",
          "data": {
            "text/plain": [
              "array([5842.83619765])"
            ]
          },
          "metadata": {},
          "execution_count": 38
        }
      ]
    },
    {
      "cell_type": "markdown",
      "source": [
        "#predicting the Y values from the obtained regression model\n",
        "\n",
        "> Indented block\n",
        "\n"
      ],
      "metadata": {
        "id": "rjVylqzDfdJr"
      }
    },
    {
      "cell_type": "code",
      "source": [
        "y_pred=regressor.predict(x.reshape(-1,1))\n",
        "y_pred"
      ],
      "metadata": {
        "id": "3Wd3ji2ff0HR",
        "colab": {
          "base_uri": "https://localhost:8080/"
        },
        "outputId": "4fe0686a-9b70-40bd-ce08-91dc6c97e86f"
      },
      "execution_count": null,
      "outputs": [
        {
          "output_type": "execute_result",
          "data": {
            "text/plain": [
              "array([[ 5369.73357604],\n",
              "       [ 5275.11305171],\n",
              "       [ -465.19875726],\n",
              "       [ 2531.11784633],\n",
              "       [ 5212.03270216],\n",
              "       [ 1111.80998147],\n",
              "       [ 1269.51085534],\n",
              "       [ 3004.22046794],\n",
              "       [ 4423.5283328 ],\n",
              "       [ 4896.63095442],\n",
              "       [ 5054.33182829],\n",
              "       [ 4581.22920667],\n",
              "       [ 3477.32308956],\n",
              "       [  796.40823373],\n",
              "       [ 2688.8187202 ],\n",
              "       [ 4265.82745893],\n",
              "       [ 3161.92134182],\n",
              "       [ 4738.93008054],\n",
              "       [ -307.49788338],\n",
              "       [ 5212.03270216],\n",
              "       [  323.30561211],\n",
              "       [ -307.49788338],\n",
              "       [-1096.00225275],\n",
              "       [ -465.19875726],\n",
              "       [ 1900.31435084],\n",
              "       [ 4581.22920667],\n",
              "       [ 5054.33182829],\n",
              "       [ 4581.22920667],\n",
              "       [ 4265.82745893],\n",
              "       [ 3635.02396344],\n",
              "       [ 1742.61347696]])"
            ]
          },
          "metadata": {},
          "execution_count": 39
        }
      ]
    },
    {
      "cell_type": "markdown",
      "source": [
        "# get the R-square value\n",
        "R-square: explains the variability in the response(dependent) variable"
      ],
      "metadata": {
        "id": "JxmHSM7IgUdy"
      }
    },
    {
      "cell_type": "code",
      "source": [
        "r2_score(y,y_pred)"
      ],
      "metadata": {
        "id": "RsPfFo9CgwUw",
        "colab": {
          "base_uri": "https://localhost:8080/"
        },
        "outputId": "51e927fa-cf0f-4cf7-ba61-4a8c1cf5b4de"
      },
      "execution_count": null,
      "outputs": [
        {
          "output_type": "execute_result",
          "data": {
            "text/plain": [
              "0.7338976168337803"
            ]
          },
          "metadata": {},
          "execution_count": 40
        }
      ]
    },
    {
      "cell_type": "markdown",
      "source": [
        "# Transformation of data to increase the R-sqare value"
      ],
      "metadata": {
        "id": "yORThwWtg-Vx"
      }
    },
    {
      "cell_type": "code",
      "source": [
        "y_new=np.sqrt(y)\n",
        "y_new"
      ],
      "metadata": {
        "id": "mfPI-arXhZRV",
        "colab": {
          "base_uri": "https://localhost:8080/"
        },
        "outputId": "83d248b8-a0ea-4de2-9532-159ed9b59548"
      },
      "execution_count": null,
      "outputs": [
        {
          "output_type": "execute_result",
          "data": {
            "text/plain": [
              "array([82.40752393, 77.38216849, 18.81488772, 25.51470164, 84.32674546,\n",
              "       20.14944168, 24.0208243 , 25.59296778, 53.76802024, 74.75961477,\n",
              "       81.89627586, 63.88270501, 51.98076567, 19.23538406, 35.36947837,\n",
              "       56.0357029 , 49.689033  , 70.06425622, 19.89974874, 83.76753548,\n",
              "       22.        , 17.23368794, 11.87434209, 13.89244399, 52.92447449,\n",
              "       61.08191222, 86.27861844, 62.5299928 , 51.74939613, 42.81354926,\n",
              "       54.27706698])"
            ]
          },
          "metadata": {},
          "execution_count": 41
        }
      ]
    },
    {
      "cell_type": "code",
      "source": [
        "plt.scatter(x,y_new)\n",
        "z=np.polyfit(x,y_new,1)\n",
        "p=np.poly1d(z)\n",
        "plt.plot(x,p(x),color='red')"
      ],
      "metadata": {
        "colab": {
          "base_uri": "https://localhost:8080/",
          "height": 286
        },
        "id": "r9-5PlPDOej0",
        "outputId": "5376b85c-7124-4892-a2e2-93e9b977cf1d"
      },
      "execution_count": null,
      "outputs": [
        {
          "output_type": "execute_result",
          "data": {
            "text/plain": [
              "[<matplotlib.lines.Line2D at 0x7f775ff51c50>]"
            ]
          },
          "metadata": {},
          "execution_count": 42
        },
        {
          "output_type": "display_data",
          "data": {
            "text/plain": [
              "<Figure size 432x288 with 1 Axes>"
            ],
            "image/png": "[encoded data removed]"
          },
          "metadata": {
            "needs_background": "light"
          }
        }
      ]
    },
    {
      "cell_type": "markdown",
      "source": [
        "#Output"
      ],
      "metadata": {
        "id": "8Rv9aITDjMoS"
      }
    },
    {
      "cell_type": "code",
      "source": [
        "regressor.fit(x.reshape(-1,1),y_new)\n",
        "print(regressor.coef_)\n",
        "print(regressor.intercept_)"
      ],
      "metadata": {
        "id": "K_38g3HLhojw",
        "colab": {
          "base_uri": "https://localhost:8080/"
        },
        "outputId": "932b2058-cfeb-4f9c-ab39-c9cde504b42e"
      },
      "execution_count": null,
      "outputs": [
        {
          "output_type": "stream",
          "name": "stdout",
          "text": [
            "[-1.68932556]\n",
            "79.54515270075692\n"
          ]
        }
      ]
    },
    {
      "cell_type": "code",
      "source": [
        "ynew_pred=regressor.predict(x.reshape(-1,1))\n",
        "ynew_pred"
      ],
      "metadata": {
        "id": "D89gw4lviB6G",
        "colab": {
          "base_uri": "https://localhost:8080/"
        },
        "outputId": "ef640614-47ec-45a5-9ffa-86ad8d609b36"
      },
      "execution_count": null,
      "outputs": [
        {
          "output_type": "execute_result",
          "data": {
            "text/plain": [
              "array([74.47717601, 73.46358068, 11.97213021, 44.06931589, 72.78785045,\n",
              "       28.86538583, 30.5547114 , 49.13729258, 64.34122264, 69.40919933,\n",
              "       71.09852489, 66.0305482 , 54.20526927, 25.48673471, 45.75864146,\n",
              "       62.65189708, 50.82661814, 67.71987377, 13.66145577, 72.78785045,\n",
              "       20.41875802, 13.66145577,  5.21482796, 11.97213021, 37.31201364,\n",
              "       66.0305482 , 71.09852489, 66.0305482 , 62.65189708, 55.89459483,\n",
              "       35.62268808])"
            ]
          },
          "metadata": {},
          "execution_count": 44
        }
      ]
    },
    {
      "cell_type": "code",
      "source": [
        "r2_score(ynew_pred,y_new)"
      ],
      "metadata": {
        "id": "2hksS1iOiSbN",
        "colab": {
          "base_uri": "https://localhost:8080/"
        },
        "outputId": "075eea15-03e6-47a7-efcd-029904490219"
      },
      "execution_count": null,
      "outputs": [
        {
          "output_type": "execute_result",
          "data": {
            "text/plain": [
              "0.7964286851715443"
            ]
          },
          "metadata": {},
          "execution_count": 45
        }
      ]
    },
    {
      "cell_type": "markdown",
      "source": [],
      "metadata": {
        "id": "2LRFIS8yWWW4"
      }
    },
    {
      "cell_type": "markdown",
      "source": [
        "#Machine Learning Model"
      ],
      "metadata": {
        "id": "wSwy5ANIik1t"
      }
    },
    {
      "cell_type": "markdown",
      "source": [
        "#Using train_test_split"
      ],
      "metadata": {
        "id": "Fe8H4Jz2jz5N"
      }
    },
    {
      "cell_type": "code",
      "source": [
        "from sklearn.model_selection import train_test_split"
      ],
      "metadata": {
        "id": "GXDibAT0j47Q"
      },
      "execution_count": null,
      "outputs": []
    },
    {
      "cell_type": "markdown",
      "source": [
        "# Divide the dataset into train data and test data\n",
        "\n",
        "*   Train data: Used to train the model\n",
        "*   Test data: Used to test the obtained model\n",
        "\n"
      ],
      "metadata": {
        "id": "u-NAVqHzlJfC"
      }
    },
    {
      "cell_type": "code",
      "source": [
        "x_train,x_test,y_train,y_test=train_test_split(x.reshape(-1,1),y.reshape(-1,1),test_size=0.2,random_state=0)"
      ],
      "metadata": {
        "id": "meBlbDVhkCYs"
      },
      "execution_count": null,
      "outputs": []
    },
    {
      "cell_type": "markdown",
      "source": [
        "# fitting the regression model"
      ],
      "metadata": {
        "id": "ORWjM6GxlwUg"
      }
    },
    {
      "cell_type": "code",
      "source": [
        "model_fit=LinearRegression()"
      ],
      "metadata": {
        "id": "L9Qly0wQl0RU"
      },
      "execution_count": null,
      "outputs": []
    },
    {
      "cell_type": "code",
      "source": [
        "model_fit.fit(x_train,y_train)"
      ],
      "metadata": {
        "id": "q4N0dBEnl7qW",
        "colab": {
          "base_uri": "https://localhost:8080/"
        },
        "outputId": "1c2dedf4-845d-4698-9f8a-cadfcfd0bd5a"
      },
      "execution_count": null,
      "outputs": [
        {
          "output_type": "execute_result",
          "data": {
            "text/plain": [
              "LinearRegression()"
            ]
          },
          "metadata": {},
          "execution_count": 49
        }
      ]
    },
    {
      "cell_type": "code",
      "source": [
        "model_fit.coef_"
      ],
      "metadata": {
        "colab": {
          "base_uri": "https://localhost:8080/"
        },
        "id": "gKsqhKfPP11L",
        "outputId": "89f873ac-8396-437f-96c3-c2ac84b300c5"
      },
      "execution_count": null,
      "outputs": [
        {
          "output_type": "execute_result",
          "data": {
            "text/plain": [
              "array([[-170.16858541]])"
            ]
          },
          "metadata": {},
          "execution_count": 50
        }
      ]
    },
    {
      "cell_type": "code",
      "source": [
        "model_fit.intercept_"
      ],
      "metadata": {
        "colab": {
          "base_uri": "https://localhost:8080/"
        },
        "id": "3UoMEd77P6tb",
        "outputId": "3bad785c-e73b-4a0c-fc21-3110bc93a0ba"
      },
      "execution_count": null,
      "outputs": [
        {
          "output_type": "execute_result",
          "data": {
            "text/plain": [
              "array([6064.60053253])"
            ]
          },
          "metadata": {},
          "execution_count": 51
        }
      ]
    },
    {
      "cell_type": "code",
      "source": [
        "y_pred=model_fit.predict(x_test)\n",
        "y_pred"
      ],
      "metadata": {
        "id": "W8Qk3IidmIUE",
        "colab": {
          "base_uri": "https://localhost:8080/"
        },
        "outputId": "479a8e7a-d750-4c7e-82ae-33682acb0f98"
      },
      "execution_count": null,
      "outputs": [
        {
          "output_type": "execute_result",
          "data": {
            "text/plain": [
              "array([[ -742.14288397],\n",
              "       [ 3682.24033676],\n",
              "       [  619.20579933],\n",
              "       [ 5213.75760547],\n",
              "       [ 4703.25184923],\n",
              "       [ 4703.25184923],\n",
              "       [-1422.81722563]])"
            ]
          },
          "metadata": {},
          "execution_count": 52
        }
      ]
    },
    {
      "cell_type": "markdown",
      "source": [
        "# get the R-square value"
      ],
      "metadata": {
        "id": "icXzAttUlCfr"
      }
    },
    {
      "cell_type": "code",
      "source": [
        "r2_score(y_test,y_pred)"
      ],
      "metadata": {
        "id": "cFkU3atfmrj7",
        "colab": {
          "base_uri": "https://localhost:8080/"
        },
        "outputId": "66243055-ca9e-4a82-8908-c106e1228215"
      },
      "execution_count": null,
      "outputs": [
        {
          "output_type": "execute_result",
          "data": {
            "text/plain": [
              "0.6990175696186043"
            ]
          },
          "metadata": {},
          "execution_count": 53
        }
      ]
    }
  ]
}