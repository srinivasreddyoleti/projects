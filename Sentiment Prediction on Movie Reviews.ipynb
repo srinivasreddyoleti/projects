{
  "metadata": {
    "kernelspec": {
      "language": "python",
      "display_name": "Python 3",
      "name": "python3"
    },
    "language_info": {
      "pygments_lexer": "ipython3",
      "nbconvert_exporter": "python",
      "version": "3.6.4",
      "file_extension": ".py",
      "codemirror_mode": {
        "name": "ipython",
        "version": 3
      },
      "name": "python",
      "mimetype": "text/x-python"
    },
    "colab": {
      "name": "21f1002661-notebook-t22023",
      "provenance": [],
      "include_colab_link": true
    }
  },
  "nbformat_minor": 0,
  "nbformat": 4,
  "cells": [
    {
      "cell_type": "markdown",
      "metadata": {
        "id": "view-in-github",
        "colab_type": "text"
      },
      "source": [
        "<a href=\"https://colab.research.google.com/github/srinivasreddyoleti/projects/blob/main/Sentiment%20Prediction%20on%20Movie%20Reviews.ipynb\" target=\"_parent\"><img src=\"https://colab.research.google.com/assets/colab-badge.svg\" alt=\"Open In Colab\"/></a>"
      ]
    },
    {
      "source": [
        "# IMPORTANT: SOME KAGGLE DATA SOURCES ARE PRIVATE\n",
        "# RUN THIS CELL IN ORDER TO IMPORT YOUR KAGGLE DATA SOURCES.\n",
        "import kagglehub\n",
        "kagglehub.login()\n"
      ],
      "metadata": {
        "id": "lsSXkY2Kt2RL"
      },
      "cell_type": "code",
      "outputs": [],
      "execution_count": null
    },
    {
      "source": [
        "# IMPORTANT: RUN THIS CELL IN ORDER TO IMPORT YOUR KAGGLE DATA SOURCES,\n",
        "# THEN FEEL FREE TO DELETE THIS CELL.\n",
        "# NOTE: THIS NOTEBOOK ENVIRONMENT DIFFERS FROM KAGGLE'S PYTHON\n",
        "# ENVIRONMENT SO THERE MAY BE MISSING LIBRARIES USED BY YOUR\n",
        "# NOTEBOOK.\n",
        "\n",
        "sentiment_prediction_on_movie_reviews_path = kagglehub.competition_download('sentiment-prediction-on-movie-reviews')\n",
        "\n",
        "print('Data source import complete.')\n"
      ],
      "metadata": {
        "id": "aOCNTop9t2RQ"
      },
      "cell_type": "code",
      "outputs": [],
      "execution_count": null
    },
    {
      "cell_type": "code",
      "source": [
        "# This Python 3 environment comes with many helpful analytics libraries installed\n",
        "# It is defined by the kaggle/python Docker image: https://github.com/kaggle/docker-python\n",
        "# For example, here's several helpful packages to load\n",
        "\n",
        "import numpy as np # linear algebra\n",
        "import pandas as pd # data processing, CSV file I/O (e.g. pd.read_csv)\n",
        "\n",
        "# Input data files are available in the read-only \"../input/\" directory\n",
        "# For example, running this (by clicking run or pressing Shift+Enter) will list all files under the input directory\n",
        "\n",
        "import os\n",
        "for dirname, _, filenames in os.walk('/kaggle/input'):\n",
        "    for filename in filenames:\n",
        "        print(os.path.join(dirname, filename))\n",
        "\n",
        "# You can write up to 5GB to the current directory (/kaggle/working/) that gets preserved as output when you create a version using \"Save & Run All\"\n",
        "# You can also write temporary files to /kaggle/temp/, but they won't be saved outside of the current session\n",
        "\n"
      ],
      "metadata": {
        "_uuid": "8f2839f25d086af736a60e9eeb907d3b93b6e0e5",
        "_cell_guid": "b1076dfc-b9ad-4769-8c92-a6c4dae69d19",
        "execution": {
          "iopub.status.busy": "2023-07-21T10:20:07.503055Z",
          "iopub.execute_input": "2023-07-21T10:20:07.503847Z",
          "iopub.status.idle": "2023-07-21T10:20:07.544646Z",
          "shell.execute_reply.started": "2023-07-21T10:20:07.503809Z",
          "shell.execute_reply": "2023-07-21T10:20:07.543276Z"
        },
        "trusted": true,
        "id": "5pb0h3-Vt2RS"
      },
      "execution_count": null,
      "outputs": []
    },
    {
      "cell_type": "code",
      "source": [
        "train_data=pd.read_csv(\"/kaggle/input/sentiment-prediction-on-movie-reviews/train.csv\")\n"
      ],
      "metadata": {
        "execution": {
          "iopub.status.busy": "2023-07-21T10:20:44.85017Z",
          "iopub.execute_input": "2023-07-21T10:20:44.850699Z",
          "iopub.status.idle": "2023-07-21T10:20:45.541633Z",
          "shell.execute_reply.started": "2023-07-21T10:20:44.850659Z",
          "shell.execute_reply": "2023-07-21T10:20:45.540528Z"
        },
        "trusted": true,
        "id": "9xeJ5AD6t2RT"
      },
      "execution_count": null,
      "outputs": []
    },
    {
      "cell_type": "code",
      "source": [
        "train_data.shape"
      ],
      "metadata": {
        "execution": {
          "iopub.status.busy": "2023-07-16T15:57:28.49931Z",
          "iopub.execute_input": "2023-07-16T15:57:28.499573Z",
          "iopub.status.idle": "2023-07-16T15:57:28.505399Z",
          "shell.execute_reply.started": "2023-07-16T15:57:28.499552Z",
          "shell.execute_reply": "2023-07-16T15:57:28.504204Z"
        },
        "trusted": true,
        "id": "s3Xv-6Nkt2RV"
      },
      "execution_count": null,
      "outputs": []
    },
    {
      "cell_type": "code",
      "source": [
        "test_data=pd.read_csv(\"/kaggle/input/sentiment-prediction-on-movie-reviews/test.csv\")"
      ],
      "metadata": {
        "execution": {
          "iopub.status.busy": "2023-07-16T15:57:28.507186Z",
          "iopub.execute_input": "2023-07-16T15:57:28.507435Z",
          "iopub.status.idle": "2023-07-16T15:57:28.763493Z",
          "shell.execute_reply.started": "2023-07-16T15:57:28.507414Z",
          "shell.execute_reply": "2023-07-16T15:57:28.762428Z"
        },
        "trusted": true,
        "id": "vthHV55rt2RV"
      },
      "execution_count": null,
      "outputs": []
    },
    {
      "cell_type": "code",
      "source": [
        "test_data.shape"
      ],
      "metadata": {
        "execution": {
          "iopub.status.busy": "2023-07-16T15:57:28.764645Z",
          "iopub.execute_input": "2023-07-16T15:57:28.764977Z",
          "iopub.status.idle": "2023-07-16T15:57:28.770484Z",
          "shell.execute_reply.started": "2023-07-16T15:57:28.764943Z",
          "shell.execute_reply": "2023-07-16T15:57:28.769383Z"
        },
        "trusted": true,
        "id": "FTepickUt2RW"
      },
      "execution_count": null,
      "outputs": []
    },
    {
      "cell_type": "code",
      "source": [
        "sample_submission=pd.read_csv('/kaggle/input/sentiment-prediction-on-movie-reviews/sample.csv')"
      ],
      "metadata": {
        "execution": {
          "iopub.status.busy": "2023-07-16T15:57:28.772129Z",
          "iopub.execute_input": "2023-07-16T15:57:28.772429Z",
          "iopub.status.idle": "2023-07-16T15:57:28.80299Z",
          "shell.execute_reply.started": "2023-07-16T15:57:28.772401Z",
          "shell.execute_reply": "2023-07-16T15:57:28.801982Z"
        },
        "trusted": true,
        "id": "0IZpIag9t2RX"
      },
      "execution_count": null,
      "outputs": []
    },
    {
      "cell_type": "code",
      "source": [
        "train_data.head(5)"
      ],
      "metadata": {
        "execution": {
          "iopub.status.busy": "2023-07-16T15:57:28.804669Z",
          "iopub.execute_input": "2023-07-16T15:57:28.805036Z",
          "iopub.status.idle": "2023-07-16T15:57:28.827402Z",
          "shell.execute_reply.started": "2023-07-16T15:57:28.805009Z",
          "shell.execute_reply": "2023-07-16T15:57:28.826656Z"
        },
        "trusted": true,
        "id": "tLFa0PIbt2RY"
      },
      "execution_count": null,
      "outputs": []
    },
    {
      "cell_type": "code",
      "source": [
        "test_data.head(5)"
      ],
      "metadata": {
        "execution": {
          "iopub.status.busy": "2023-07-16T15:57:28.828522Z",
          "iopub.execute_input": "2023-07-16T15:57:28.829693Z",
          "iopub.status.idle": "2023-07-16T15:57:28.839686Z",
          "shell.execute_reply.started": "2023-07-16T15:57:28.829642Z",
          "shell.execute_reply": "2023-07-16T15:57:28.839018Z"
        },
        "trusted": true,
        "id": "2L7CybAht2Ra"
      },
      "execution_count": null,
      "outputs": []
    },
    {
      "cell_type": "code",
      "source": [
        "train_data.info()"
      ],
      "metadata": {
        "execution": {
          "iopub.status.busy": "2023-07-16T15:57:28.842409Z",
          "iopub.execute_input": "2023-07-16T15:57:28.844157Z",
          "iopub.status.idle": "2023-07-16T15:57:28.958807Z",
          "shell.execute_reply.started": "2023-07-16T15:57:28.844106Z",
          "shell.execute_reply": "2023-07-16T15:57:28.957975Z"
        },
        "trusted": true,
        "id": "8TX5cNaGt2Ra"
      },
      "execution_count": null,
      "outputs": []
    },
    {
      "cell_type": "code",
      "source": [
        "train_data.isnull().sum()"
      ],
      "metadata": {
        "execution": {
          "iopub.status.busy": "2023-07-16T15:57:28.95981Z",
          "iopub.execute_input": "2023-07-16T15:57:28.960115Z",
          "iopub.status.idle": "2023-07-16T15:57:29.0619Z",
          "shell.execute_reply.started": "2023-07-16T15:57:28.960093Z",
          "shell.execute_reply": "2023-07-16T15:57:29.060936Z"
        },
        "trusted": true,
        "id": "z403ypRxt2Ra"
      },
      "execution_count": null,
      "outputs": []
    },
    {
      "cell_type": "code",
      "source": [
        "train_data['reviewText']=train_data['reviewText'].astype(str)"
      ],
      "metadata": {
        "execution": {
          "iopub.status.busy": "2023-07-21T10:20:50.159672Z",
          "iopub.execute_input": "2023-07-21T10:20:50.160065Z",
          "iopub.status.idle": "2023-07-21T10:20:50.192857Z",
          "shell.execute_reply.started": "2023-07-21T10:20:50.160035Z",
          "shell.execute_reply": "2023-07-21T10:20:50.191927Z"
        },
        "trusted": true,
        "id": "flXQphZ3t2Rb"
      },
      "execution_count": null,
      "outputs": []
    },
    {
      "cell_type": "code",
      "source": [
        "train_data.drop(train_data.index[(train_data['reviewText']=='nan')],axis=0,inplace=True)"
      ],
      "metadata": {
        "execution": {
          "iopub.status.busy": "2023-07-21T10:20:53.55764Z",
          "iopub.execute_input": "2023-07-21T10:20:53.558496Z",
          "iopub.status.idle": "2023-07-21T10:20:53.618033Z",
          "shell.execute_reply.started": "2023-07-21T10:20:53.55845Z",
          "shell.execute_reply": "2023-07-21T10:20:53.616681Z"
        },
        "trusted": true,
        "id": "h_Y1BGVpt2Rc"
      },
      "execution_count": null,
      "outputs": []
    },
    {
      "cell_type": "code",
      "source": [
        "x=train_data['reviewText']\n",
        "y=train_data['sentiment']"
      ],
      "metadata": {
        "execution": {
          "iopub.status.busy": "2023-07-21T10:20:56.157295Z",
          "iopub.execute_input": "2023-07-21T10:20:56.1578Z",
          "iopub.status.idle": "2023-07-21T10:20:56.164515Z",
          "shell.execute_reply.started": "2023-07-21T10:20:56.157758Z",
          "shell.execute_reply": "2023-07-21T10:20:56.163226Z"
        },
        "trusted": true,
        "id": "BtjvTA01t2Rc"
      },
      "execution_count": null,
      "outputs": []
    },
    {
      "cell_type": "code",
      "source": [
        "assert(x.shape[0]==y.shape[0])"
      ],
      "metadata": {
        "execution": {
          "iopub.status.busy": "2023-07-16T15:57:29.191938Z",
          "iopub.execute_input": "2023-07-16T15:57:29.192199Z",
          "iopub.status.idle": "2023-07-16T15:57:29.201904Z",
          "shell.execute_reply.started": "2023-07-16T15:57:29.192179Z",
          "shell.execute_reply": "2023-07-16T15:57:29.201053Z"
        },
        "trusted": true,
        "id": "QUhIc7sBt2Rc"
      },
      "execution_count": null,
      "outputs": []
    },
    {
      "cell_type": "code",
      "source": [
        "import matplotlib.pyplot as plt\n",
        "import seaborn as sns\n",
        "\n",
        "np.random.seed(306)\n",
        "plt.style.use('seaborn')"
      ],
      "metadata": {
        "execution": {
          "iopub.status.busy": "2023-07-21T10:21:01.601787Z",
          "iopub.execute_input": "2023-07-21T10:21:01.602204Z",
          "iopub.status.idle": "2023-07-21T10:21:02.457563Z",
          "shell.execute_reply.started": "2023-07-21T10:21:01.602161Z",
          "shell.execute_reply": "2023-07-21T10:21:02.456312Z"
        },
        "trusted": true,
        "id": "ES55SJiDt2Rd"
      },
      "execution_count": null,
      "outputs": []
    },
    {
      "cell_type": "code",
      "source": [
        "def count():\n",
        "\n",
        "   positive_review=0\n",
        "   negative_review=0\n",
        "   for sentiment in y:\n",
        "        if sentiment=='POSITIVE':\n",
        "           positive_review+=1\n",
        "        else:\n",
        "           negative_review+=1\n",
        "   return(positive_review,negative_review)\n",
        ""
      ],
      "metadata": {
        "execution": {
          "iopub.status.busy": "2023-07-16T15:57:29.217385Z",
          "iopub.execute_input": "2023-07-16T15:57:29.217654Z",
          "iopub.status.idle": "2023-07-16T15:57:29.227471Z",
          "shell.execute_reply.started": "2023-07-16T15:57:29.217633Z",
          "shell.execute_reply": "2023-07-16T15:57:29.225908Z"
        },
        "trusted": true,
        "id": "KcUY23c9t2Rd"
      },
      "execution_count": null,
      "outputs": []
    },
    {
      "cell_type": "code",
      "source": [
        "def bar_plot():\n",
        "\n",
        "    plt.figure(figsize=(5.5,3.5))\n",
        "    obj=('Positive_reviews','Negative_reviews')\n",
        "    y_scale=np.arange(len(obj))\n",
        "    clss=count()\n",
        "\n",
        "    plt.bar(y_scale,clss,align='center',alpha=0.4)\n",
        "\n",
        "    plt.xticks(y_scale,obj)\n",
        "    plt.ylabel('Number of reviews')\n",
        "    plt.title('Movie Reviews')\n",
        "bar_plot()"
      ],
      "metadata": {
        "execution": {
          "iopub.status.busy": "2023-07-16T15:57:29.228902Z",
          "iopub.execute_input": "2023-07-16T15:57:29.229328Z",
          "iopub.status.idle": "2023-07-16T15:57:29.438977Z",
          "shell.execute_reply.started": "2023-07-16T15:57:29.229297Z",
          "shell.execute_reply": "2023-07-16T15:57:29.438046Z"
        },
        "trusted": true,
        "id": "7g9Zymt1t2Re"
      },
      "execution_count": null,
      "outputs": []
    },
    {
      "cell_type": "code",
      "source": [
        "from sklearn.model_selection import train_test_split\n",
        "from sklearn.feature_extraction.text import TfidfVectorizer\n",
        "from sklearn.feature_extraction.text import CountVectorizer\n",
        "from sklearn.preprocessing import StandardScaler\n",
        "\n",
        "from sklearn.preprocessing import LabelEncoder\n",
        "from sklearn.model_selection import ShuffleSplit\n",
        "\n",
        "from sklearn.model_selection import cross_validate\n",
        "from sklearn.model_selection import cross_val_score\n",
        "from sklearn.model_selection import validation_curve\n",
        "from sklearn.model_selection import GridSearchCV\n",
        "\n",
        "from sklearn.metrics import accuracy_score\n",
        "from sklearn.metrics import precision_score\n",
        "from sklearn.metrics import recall_score\n",
        "from sklearn.metrics import f1_score\n",
        "from sklearn.metrics import log_loss\n",
        "from sklearn.metrics import ConfusionMatrixDisplay\n",
        "from sklearn.metrics import classification_report\n",
        "from sklearn.metrics import precision_recall_curve\n",
        "from sklearn.metrics import roc_curve\n",
        "\n",
        "from sklearn.pipeline import Pipeline\n"
      ],
      "metadata": {
        "execution": {
          "iopub.status.busy": "2023-07-21T10:21:11.900967Z",
          "iopub.execute_input": "2023-07-21T10:21:11.901491Z",
          "iopub.status.idle": "2023-07-21T10:21:12.117914Z",
          "shell.execute_reply.started": "2023-07-21T10:21:11.90145Z",
          "shell.execute_reply": "2023-07-21T10:21:12.116109Z"
        },
        "trusted": true,
        "id": "0XjB697Lt2Re"
      },
      "execution_count": null,
      "outputs": []
    },
    {
      "cell_type": "code",
      "source": [
        "shuffle_split_cv=ShuffleSplit(n_splits=4,test_size=0.2,random_state=42)"
      ],
      "metadata": {
        "execution": {
          "iopub.status.busy": "2023-07-21T10:21:15.820117Z",
          "iopub.execute_input": "2023-07-21T10:21:15.82051Z",
          "iopub.status.idle": "2023-07-21T10:21:15.825853Z",
          "shell.execute_reply.started": "2023-07-21T10:21:15.820481Z",
          "shell.execute_reply": "2023-07-21T10:21:15.824727Z"
        },
        "trusted": true,
        "id": "YvpzsCyvt2Re"
      },
      "execution_count": null,
      "outputs": []
    },
    {
      "cell_type": "code",
      "source": [
        "x_train,x_test,y_train,y_test=train_test_split(x,y,test_size=0.25,random_state=42)"
      ],
      "metadata": {
        "execution": {
          "iopub.status.busy": "2023-07-21T10:21:19.404534Z",
          "iopub.execute_input": "2023-07-21T10:21:19.4055Z",
          "iopub.status.idle": "2023-07-21T10:21:19.449571Z",
          "shell.execute_reply.started": "2023-07-21T10:21:19.40546Z",
          "shell.execute_reply": "2023-07-21T10:21:19.448404Z"
        },
        "trusted": true,
        "id": "qp_uLmg5t2Rf"
      },
      "execution_count": null,
      "outputs": []
    },
    {
      "cell_type": "code",
      "source": [
        "enc=LabelEncoder()"
      ],
      "metadata": {
        "execution": {
          "iopub.status.busy": "2023-07-21T10:21:22.930791Z",
          "iopub.execute_input": "2023-07-21T10:21:22.931179Z",
          "iopub.status.idle": "2023-07-21T10:21:22.937364Z",
          "shell.execute_reply.started": "2023-07-21T10:21:22.931152Z",
          "shell.execute_reply": "2023-07-21T10:21:22.936067Z"
        },
        "trusted": true,
        "id": "CXRzYlDot2Rf"
      },
      "execution_count": null,
      "outputs": []
    },
    {
      "cell_type": "code",
      "source": [
        "tfidf=TfidfVectorizer()"
      ],
      "metadata": {
        "execution": {
          "iopub.status.busy": "2023-07-21T10:21:26.900431Z",
          "iopub.execute_input": "2023-07-21T10:21:26.900818Z",
          "iopub.status.idle": "2023-07-21T10:21:26.906289Z",
          "shell.execute_reply.started": "2023-07-21T10:21:26.900788Z",
          "shell.execute_reply": "2023-07-21T10:21:26.90465Z"
        },
        "trusted": true,
        "id": "YiADCMdet2Rf"
      },
      "execution_count": null,
      "outputs": []
    },
    {
      "cell_type": "code",
      "source": [
        "#tfidf=CountVectorizer()"
      ],
      "metadata": {
        "execution": {
          "iopub.status.busy": "2023-07-16T15:57:29.573885Z",
          "iopub.execute_input": "2023-07-16T15:57:29.574243Z",
          "iopub.status.idle": "2023-07-16T15:57:29.583506Z",
          "shell.execute_reply.started": "2023-07-16T15:57:29.574212Z",
          "shell.execute_reply": "2023-07-16T15:57:29.58279Z"
        },
        "trusted": true,
        "id": "xPg-5t5gt2Rg"
      },
      "execution_count": null,
      "outputs": []
    },
    {
      "cell_type": "code",
      "source": [
        "x_train_encoded=tfidf.fit_transform(x_train)"
      ],
      "metadata": {
        "execution": {
          "iopub.status.busy": "2023-07-21T10:21:30.35916Z",
          "iopub.execute_input": "2023-07-21T10:21:30.360331Z",
          "iopub.status.idle": "2023-07-21T10:21:33.897792Z",
          "shell.execute_reply.started": "2023-07-21T10:21:30.360276Z",
          "shell.execute_reply": "2023-07-21T10:21:33.896683Z"
        },
        "trusted": true,
        "id": "LNQFsUNFt2Rg"
      },
      "execution_count": null,
      "outputs": []
    },
    {
      "cell_type": "code",
      "source": [
        "x_test_encoded=tfidf.transform(x_test)"
      ],
      "metadata": {
        "execution": {
          "iopub.status.busy": "2023-07-21T10:21:36.099957Z",
          "iopub.execute_input": "2023-07-21T10:21:36.10033Z",
          "iopub.status.idle": "2023-07-21T10:21:37.096193Z",
          "shell.execute_reply.started": "2023-07-21T10:21:36.1003Z",
          "shell.execute_reply": "2023-07-21T10:21:37.09496Z"
        },
        "trusted": true,
        "id": "OW5f1i5Ct2Rg"
      },
      "execution_count": null,
      "outputs": []
    },
    {
      "cell_type": "code",
      "source": [
        "y_train=enc.fit_transform(y_train)"
      ],
      "metadata": {
        "execution": {
          "iopub.status.busy": "2023-07-21T10:21:40.637958Z",
          "iopub.execute_input": "2023-07-21T10:21:40.638396Z",
          "iopub.status.idle": "2023-07-21T10:21:40.676587Z",
          "shell.execute_reply.started": "2023-07-21T10:21:40.638362Z",
          "shell.execute_reply": "2023-07-21T10:21:40.674705Z"
        },
        "trusted": true,
        "id": "8_s-JcPft2Rg"
      },
      "execution_count": null,
      "outputs": []
    },
    {
      "cell_type": "code",
      "source": [
        "y_test=enc.fit_transform(y_test)"
      ],
      "metadata": {
        "execution": {
          "iopub.status.busy": "2023-07-21T10:21:43.820587Z",
          "iopub.execute_input": "2023-07-21T10:21:43.8211Z",
          "iopub.status.idle": "2023-07-21T10:21:43.845667Z",
          "shell.execute_reply.started": "2023-07-21T10:21:43.821057Z",
          "shell.execute_reply": "2023-07-21T10:21:43.843704Z"
        },
        "trusted": true,
        "id": "YlcSIf7Rt2Rh"
      },
      "execution_count": null,
      "outputs": []
    },
    {
      "cell_type": "markdown",
      "source": [
        "# DummyClassifier"
      ],
      "metadata": {
        "id": "h9K4_IdTt2Rh"
      }
    },
    {
      "cell_type": "code",
      "source": [
        "from sklearn.dummy import DummyClassifier"
      ],
      "metadata": {
        "execution": {
          "iopub.status.busy": "2023-07-21T05:04:16.446447Z",
          "iopub.execute_input": "2023-07-21T05:04:16.446917Z",
          "iopub.status.idle": "2023-07-21T05:04:16.460875Z",
          "shell.execute_reply.started": "2023-07-21T05:04:16.446881Z",
          "shell.execute_reply": "2023-07-21T05:04:16.459179Z"
        },
        "trusted": true,
        "id": "x3Ae3CuHt2Rk"
      },
      "execution_count": null,
      "outputs": []
    },
    {
      "cell_type": "code",
      "source": [
        "dummy_clf=DummyClassifier(strategy='most_frequent',\n",
        "                         random_state=42)"
      ],
      "metadata": {
        "execution": {
          "iopub.status.busy": "2023-07-21T05:04:20.216206Z",
          "iopub.execute_input": "2023-07-21T05:04:20.216641Z",
          "iopub.status.idle": "2023-07-21T05:04:20.22226Z",
          "shell.execute_reply.started": "2023-07-21T05:04:20.216609Z",
          "shell.execute_reply": "2023-07-21T05:04:20.221184Z"
        },
        "trusted": true,
        "id": "68gwRVFft2Rl"
      },
      "execution_count": null,
      "outputs": []
    },
    {
      "cell_type": "code",
      "source": [
        "model=dummy_clf.fit(x_train_encoded,y_train)"
      ],
      "metadata": {
        "execution": {
          "iopub.status.busy": "2023-07-21T05:04:23.91922Z",
          "iopub.execute_input": "2023-07-21T05:04:23.919658Z",
          "iopub.status.idle": "2023-07-21T05:04:23.929592Z",
          "shell.execute_reply.started": "2023-07-21T05:04:23.919626Z",
          "shell.execute_reply": "2023-07-21T05:04:23.928734Z"
        },
        "trusted": true,
        "id": "kr6BXKuHt2Rl"
      },
      "execution_count": null,
      "outputs": []
    },
    {
      "cell_type": "code",
      "source": [
        "y_pred=model.predict(x_test_encoded)"
      ],
      "metadata": {
        "execution": {
          "iopub.status.busy": "2023-07-21T05:04:28.744196Z",
          "iopub.execute_input": "2023-07-21T05:04:28.744649Z",
          "iopub.status.idle": "2023-07-21T05:04:28.75228Z",
          "shell.execute_reply.started": "2023-07-21T05:04:28.744615Z",
          "shell.execute_reply": "2023-07-21T05:04:28.750806Z"
        },
        "trusted": true,
        "id": "gGxrUZzLt2Rm"
      },
      "execution_count": null,
      "outputs": []
    },
    {
      "cell_type": "code",
      "source": [
        "print(\"Traning Score:\",model.score(x_train_encoded,y_train))"
      ],
      "metadata": {
        "execution": {
          "iopub.status.busy": "2023-07-21T05:04:32.334031Z",
          "iopub.execute_input": "2023-07-21T05:04:32.334465Z",
          "iopub.status.idle": "2023-07-21T05:04:32.356036Z",
          "shell.execute_reply.started": "2023-07-21T05:04:32.334434Z",
          "shell.execute_reply": "2023-07-21T05:04:32.354517Z"
        },
        "trusted": true,
        "id": "ZPUDkrlmt2Rm"
      },
      "execution_count": null,
      "outputs": []
    },
    {
      "cell_type": "code",
      "source": [
        "print(\"Testing Score:\",accuracy_score(y_test,y_pred))"
      ],
      "metadata": {
        "execution": {
          "iopub.status.busy": "2023-07-21T05:06:04.489252Z",
          "iopub.execute_input": "2023-07-21T05:06:04.489707Z",
          "iopub.status.idle": "2023-07-21T05:06:04.500683Z",
          "shell.execute_reply.started": "2023-07-21T05:06:04.489675Z",
          "shell.execute_reply": "2023-07-21T05:06:04.499697Z"
        },
        "trusted": true,
        "id": "YrtiAbMst2Rm"
      },
      "execution_count": null,
      "outputs": []
    },
    {
      "cell_type": "markdown",
      "source": [
        "#  Logistic Regression Model"
      ],
      "metadata": {
        "id": "GagBoE4mt2Rn"
      }
    },
    {
      "cell_type": "code",
      "source": [
        "from sklearn.linear_model import LogisticRegression"
      ],
      "metadata": {
        "execution": {
          "iopub.status.busy": "2023-07-21T07:25:43.059141Z",
          "iopub.execute_input": "2023-07-21T07:25:43.059558Z",
          "iopub.status.idle": "2023-07-21T07:25:43.176606Z",
          "shell.execute_reply.started": "2023-07-21T07:25:43.05953Z",
          "shell.execute_reply": "2023-07-21T07:25:43.175143Z"
        },
        "trusted": true,
        "id": "wTr2CGi2t2Rn"
      },
      "execution_count": null,
      "outputs": []
    },
    {
      "cell_type": "code",
      "source": [
        "pipeline=Pipeline([('clf',LogisticRegression(max_iter=10000,random_state=42,\n",
        "                                            C=np.infty))])\n",
        "pipeline.fit(x_train_encoded,y_train)"
      ],
      "metadata": {
        "execution": {
          "iopub.status.busy": "2023-07-21T08:09:42.852117Z",
          "iopub.execute_input": "2023-07-21T08:09:42.852662Z",
          "iopub.status.idle": "2023-07-21T08:18:31.885754Z",
          "shell.execute_reply.started": "2023-07-21T08:09:42.852625Z",
          "shell.execute_reply": "2023-07-21T08:18:31.884148Z"
        },
        "trusted": true,
        "id": "Zylj6oFzt2Rn"
      },
      "execution_count": null,
      "outputs": []
    },
    {
      "cell_type": "code",
      "source": [
        "weights=pipeline[-1].coef_\n",
        "bias=pipeline[-1].intercept_"
      ],
      "metadata": {
        "execution": {
          "iopub.status.busy": "2023-07-21T08:19:20.616802Z",
          "iopub.execute_input": "2023-07-21T08:19:20.617257Z",
          "iopub.status.idle": "2023-07-21T08:19:20.624124Z",
          "shell.execute_reply.started": "2023-07-21T08:19:20.617225Z",
          "shell.execute_reply": "2023-07-21T08:19:20.622972Z"
        },
        "trusted": true,
        "id": "peDvLh2Yt2Rt"
      },
      "execution_count": null,
      "outputs": []
    },
    {
      "cell_type": "code",
      "source": [
        "print(\"intercept (w_0):\",weights)\n",
        "print(\"weight vector (w1,...w_m):\",bias)"
      ],
      "metadata": {
        "execution": {
          "iopub.status.busy": "2023-07-21T08:19:23.43058Z",
          "iopub.execute_input": "2023-07-21T08:19:23.431059Z",
          "iopub.status.idle": "2023-07-21T08:19:23.439128Z",
          "shell.execute_reply.started": "2023-07-21T08:19:23.431025Z",
          "shell.execute_reply": "2023-07-21T08:19:23.437705Z"
        },
        "trusted": true,
        "id": "9gN7kXyFt2Rv"
      },
      "execution_count": null,
      "outputs": []
    },
    {
      "cell_type": "code",
      "source": [
        "train_score=pipeline.score(x_train_encoded,y_train)\n",
        "test_score=accuracy_score(y_test,pipeline.predict(x_test_encoded))\n",
        "\n",
        "print(\"Model performance on train set:\",train_score)\n",
        "print(\"Model performance on test set:\",test_score)"
      ],
      "metadata": {
        "execution": {
          "iopub.status.busy": "2023-07-21T08:19:32.643247Z",
          "iopub.execute_input": "2023-07-21T08:19:32.643703Z",
          "iopub.status.idle": "2023-07-21T08:19:32.680402Z",
          "shell.execute_reply.started": "2023-07-21T08:19:32.643672Z",
          "shell.execute_reply": "2023-07-21T08:19:32.679254Z"
        },
        "trusted": true,
        "id": "5NM-wy4At2Rv"
      },
      "execution_count": null,
      "outputs": []
    },
    {
      "cell_type": "code",
      "source": [
        "\n",
        "def log_clf(solver,penalty=None):\n",
        "    clf=LogisticRegression(solver=solver,penalty=penalty,\n",
        "                           max_iter=1000,\n",
        "                          tol=1e-5)\n",
        "    log_clf_results_cv=cross_validate(clf,x_train_encoded,\n",
        "                                  y_train,\n",
        "                                  cv=shuffle_split_cv,\n",
        "                                  scoring='precision',\n",
        "                                  return_train_score=True,\n",
        "                                  return_estimator=True,\n",
        "                                     )\n",
        "\n",
        "    return(pd.Series(log_clf_results_cv['test_score'],name='Logistic Regression score'))"
      ],
      "metadata": {
        "execution": {
          "iopub.status.busy": "2023-07-21T05:09:22.852574Z",
          "iopub.execute_input": "2023-07-21T05:09:22.853029Z",
          "iopub.status.idle": "2023-07-21T05:09:22.860437Z",
          "shell.execute_reply.started": "2023-07-21T05:09:22.853Z",
          "shell.execute_reply": "2023-07-21T05:09:22.85926Z"
        },
        "trusted": true,
        "id": "k084oTnYt2Rv"
      },
      "execution_count": null,
      "outputs": []
    },
    {
      "cell_type": "code",
      "source": [
        "lbfgs_results_score=log_clf(solver='lbfgs',penalty='l2')\n",
        "\n",
        "saga_results_score=log_clf(solver='saga',penalty='l2')\n",
        "sag_results_score=log_clf(solver='sag',penalty='l2')\n",
        "liblinear_results_score=log_clf(solver='liblinear',penalty='l2')"
      ],
      "metadata": {
        "execution": {
          "iopub.status.busy": "2023-07-21T05:09:27.430045Z",
          "iopub.execute_input": "2023-07-21T05:09:27.430445Z",
          "iopub.status.idle": "2023-07-21T05:10:57.040338Z",
          "shell.execute_reply.started": "2023-07-21T05:09:27.430417Z",
          "shell.execute_reply": "2023-07-21T05:10:57.039034Z"
        },
        "trusted": true,
        "id": "gJd7OiwZt2Rw"
      },
      "execution_count": null,
      "outputs": []
    },
    {
      "cell_type": "code",
      "source": [
        "print(f'Mean lbfgs accuracy score:{lbfgs_results_score.mean()} with std: {lbfgs_results_score.std()}')\n",
        "print(f'Mean saga accuracy score:{saga_results_score.mean()} with std: {saga_results_score.std()}')\n",
        "print(f'Mean sag accuracy score:{sag_results_score.mean()} with std: {sag_results_score.std()}')\n",
        "print(f'Mean liblinear accuracy score:{liblinear_results_score.mean()} with std: {liblinear_results_score.std()}')"
      ],
      "metadata": {
        "execution": {
          "iopub.status.busy": "2023-07-21T05:11:14.123291Z",
          "iopub.execute_input": "2023-07-21T05:11:14.123775Z",
          "iopub.status.idle": "2023-07-21T05:11:14.133873Z",
          "shell.execute_reply.started": "2023-07-21T05:11:14.123713Z",
          "shell.execute_reply": "2023-07-21T05:11:14.13205Z"
        },
        "trusted": true,
        "id": "V1axGtb2t2Rw"
      },
      "execution_count": null,
      "outputs": []
    },
    {
      "cell_type": "code",
      "source": [
        "\n",
        "c=0.0001\n",
        "Clf_pipeline=Pipeline([('CLF',LogisticRegression(max_iter=1000,\n",
        "                                                 solver='liblinear',penalty='l2',\n",
        "                                                 C=c,tol=1e-5,random_state=42,\n",
        "                                                 warm_start=True\n",
        "                                                 ))])"
      ],
      "metadata": {
        "execution": {
          "iopub.status.busy": "2023-07-21T05:14:53.221099Z",
          "iopub.execute_input": "2023-07-21T05:14:53.221539Z",
          "iopub.status.idle": "2023-07-21T05:14:53.228514Z",
          "shell.execute_reply.started": "2023-07-21T05:14:53.221508Z",
          "shell.execute_reply": "2023-07-21T05:14:53.22709Z"
        },
        "trusted": true,
        "id": "Asjc97XSt2Rw"
      },
      "execution_count": null,
      "outputs": []
    },
    {
      "cell_type": "code",
      "source": [
        "c=[0.001,0.01,0.1,1,10,100]\n",
        "train_score,test_score=validation_curve(\n",
        "                                        Clf_pipeline,x_train_encoded,\n",
        "                                        y_train,param_name='CLF__C',\n",
        "                                        param_range=c,cv=shuffle_split_cv,\n",
        "                                        scoring='accuracy')\n",
        "\n",
        "plt.plot(c,train_score.mean(axis=1),'b-x',label='Training_score')\n",
        "plt.plot(c,test_score.mean(axis=1),'r-x',label='Validation_score')\n",
        "plt.legend(loc='center right')\n",
        "plt.title('Validation Curve with Logistic Regression')"
      ],
      "metadata": {
        "execution": {
          "iopub.status.busy": "2023-07-21T05:15:03.09126Z",
          "iopub.execute_input": "2023-07-21T05:15:03.091751Z",
          "iopub.status.idle": "2023-07-21T05:17:56.17925Z",
          "shell.execute_reply.started": "2023-07-21T05:15:03.091693Z",
          "shell.execute_reply": "2023-07-21T05:17:56.178043Z"
        },
        "trusted": true,
        "id": "rSs9R70Qt2Rx"
      },
      "execution_count": null,
      "outputs": []
    },
    {
      "cell_type": "code",
      "source": [
        "logistic_regression=LogisticRegression(penalty='l2',tol=0.01450,\n",
        "                                      C=1,random_state=42,\n",
        "                                      solver='saga',max_iter=100,\n",
        "                                      multi_class='multinomial',\n",
        "                                      warm_start=True)"
      ],
      "metadata": {
        "execution": {
          "iopub.status.busy": "2023-07-21T07:26:05.025046Z",
          "iopub.execute_input": "2023-07-21T07:26:05.025524Z",
          "iopub.status.idle": "2023-07-21T07:26:05.032473Z",
          "shell.execute_reply.started": "2023-07-21T07:26:05.025491Z",
          "shell.execute_reply": "2023-07-21T07:26:05.031182Z"
        },
        "trusted": true,
        "id": "YQiGVyrZt2Rx"
      },
      "execution_count": null,
      "outputs": []
    },
    {
      "cell_type": "code",
      "source": [
        "logistic_regression.fit(x_train_encoded,y_train)"
      ],
      "metadata": {
        "execution": {
          "iopub.status.busy": "2023-07-21T07:26:07.589591Z",
          "iopub.execute_input": "2023-07-21T07:26:07.590079Z",
          "iopub.status.idle": "2023-07-21T07:26:10.196Z",
          "shell.execute_reply.started": "2023-07-21T07:26:07.590045Z",
          "shell.execute_reply": "2023-07-21T07:26:10.194803Z"
        },
        "trusted": true,
        "id": "E2ySn23Xt2Ry"
      },
      "execution_count": null,
      "outputs": []
    },
    {
      "cell_type": "code",
      "source": [
        "print('Training Score: ',logistic_regression.score(x_train_encoded,y_train))\n",
        "print(\"Test Score:\",logistic_regression.score(x_test_encoded,y_test))"
      ],
      "metadata": {
        "execution": {
          "iopub.status.busy": "2023-07-21T07:26:13.42113Z",
          "iopub.execute_input": "2023-07-21T07:26:13.421533Z",
          "iopub.status.idle": "2023-07-21T07:26:13.456208Z",
          "shell.execute_reply.started": "2023-07-21T07:26:13.421505Z",
          "shell.execute_reply": "2023-07-21T07:26:13.454955Z"
        },
        "trusted": true,
        "id": "qjFpmmBVt2Ry"
      },
      "execution_count": null,
      "outputs": []
    },
    {
      "cell_type": "code",
      "source": [
        "y_hat=logistic_regression.predict(x_train_encoded)\n"
      ],
      "metadata": {
        "execution": {
          "iopub.status.busy": "2023-07-21T07:37:15.584041Z",
          "iopub.execute_input": "2023-07-21T07:37:15.584495Z",
          "iopub.status.idle": "2023-07-21T07:37:15.599821Z",
          "shell.execute_reply.started": "2023-07-21T07:37:15.584462Z",
          "shell.execute_reply": "2023-07-21T07:37:15.598581Z"
        },
        "trusted": true,
        "id": "xapwHZp-t2Rz"
      },
      "execution_count": null,
      "outputs": []
    },
    {
      "cell_type": "code",
      "source": [
        "y_pred=logistic_regression.predict(x_test_encoded)\n",
        "cm_display=ConfusionMatrixDisplay.from_predictions(y_test,y_pred,values_format='.5g')\n",
        "plt.grid(False)\n",
        "plt.show()"
      ],
      "metadata": {
        "execution": {
          "iopub.status.busy": "2023-07-21T07:26:18.68346Z",
          "iopub.execute_input": "2023-07-21T07:26:18.683989Z",
          "iopub.status.idle": "2023-07-21T07:26:19.051626Z",
          "shell.execute_reply.started": "2023-07-21T07:26:18.683938Z",
          "shell.execute_reply": "2023-07-21T07:26:19.049981Z"
        },
        "trusted": true,
        "id": "BcHFt15qt2Rz"
      },
      "execution_count": null,
      "outputs": []
    },
    {
      "cell_type": "code",
      "source": [
        "print(classification_report(y_test,y_pred))"
      ],
      "metadata": {
        "execution": {
          "iopub.status.busy": "2023-07-21T05:55:00.514811Z",
          "iopub.execute_input": "2023-07-21T05:55:00.515221Z",
          "iopub.status.idle": "2023-07-21T05:55:00.591714Z",
          "shell.execute_reply.started": "2023-07-21T05:55:00.51519Z",
          "shell.execute_reply": "2023-07-21T05:55:00.590237Z"
        },
        "trusted": true,
        "id": "ycNh_KEzt2R0"
      },
      "execution_count": null,
      "outputs": []
    },
    {
      "cell_type": "code",
      "source": [
        "weights=logistic_regression.coef_\n",
        "bias=logistic_regression.intercept_\n",
        "print(\"Weights w:{0}\".format(weights))\n",
        "print(\"Shape of weights: {0}\".format(weights.shape))\n",
        "print(\"Bias: {0}\".format(bias))"
      ],
      "metadata": {
        "execution": {
          "iopub.status.busy": "2023-07-21T06:15:51.761928Z",
          "iopub.execute_input": "2023-07-21T06:15:51.762343Z",
          "iopub.status.idle": "2023-07-21T06:15:51.770811Z",
          "shell.execute_reply.started": "2023-07-21T06:15:51.762314Z",
          "shell.execute_reply": "2023-07-21T06:15:51.769425Z"
        },
        "trusted": true,
        "id": "SP7zyNkct2R1"
      },
      "execution_count": null,
      "outputs": []
    },
    {
      "cell_type": "code",
      "source": [
        "plt.figure(figsize=(7,5))\n",
        "plt.plot(np.arange(0,58647),weights[0,:])\n",
        "plt.xlabel(\"Feature Index\")\n",
        "plt.ylabel('weight value')\n",
        "plt.ylim((np.min(weights)-5),np.max(weights)+5)\n",
        "plt.grid(True)"
      ],
      "metadata": {
        "execution": {
          "iopub.status.busy": "2023-07-21T06:08:48.049229Z",
          "iopub.execute_input": "2023-07-21T06:08:48.049676Z",
          "iopub.status.idle": "2023-07-21T06:08:48.41484Z",
          "shell.execute_reply.started": "2023-07-21T06:08:48.049642Z",
          "shell.execute_reply": "2023-07-21T06:08:48.413518Z"
        },
        "trusted": true,
        "id": "dlzL8tRzt2R2"
      },
      "execution_count": null,
      "outputs": []
    },
    {
      "cell_type": "code",
      "source": [
        "num_zero_w=weights.shape[1]-np.count_nonzero(weights)\n",
        "print(\"Number of weights with value zer0:\",num_zero_w)"
      ],
      "metadata": {
        "execution": {
          "iopub.status.busy": "2023-07-21T06:11:50.624844Z",
          "iopub.execute_input": "2023-07-21T06:11:50.625303Z",
          "iopub.status.idle": "2023-07-21T06:11:50.632811Z",
          "shell.execute_reply.started": "2023-07-21T06:11:50.625268Z",
          "shell.execute_reply": "2023-07-21T06:11:50.631406Z"
        },
        "trusted": true,
        "id": "eyacGTRft2R3"
      },
      "execution_count": null,
      "outputs": []
    },
    {
      "cell_type": "code",
      "source": [
        "y_scores=logistic_regression.decision_function(x_test_encoded)\n",
        "precision,recalls,thresholds=precision_recall_curve(y_test,y_scores)\n",
        "plt.figure(figsize=(5,4))\n",
        "plt.plot(thresholds,precision[:-1],'r--',label='Precision')\n",
        "plt.plot(thresholds,recalls[:-1],'g--',label='Recall')\n",
        "plt.xlabel(\"Threshold\")\n",
        "plt.grid(True)\n",
        "\n",
        "plt.legend(loc='best')\n",
        "plt.show()"
      ],
      "metadata": {
        "execution": {
          "iopub.status.busy": "2023-07-21T08:20:51.35873Z",
          "iopub.execute_input": "2023-07-21T08:20:51.359121Z",
          "iopub.status.idle": "2023-07-21T08:20:51.755501Z",
          "shell.execute_reply.started": "2023-07-21T08:20:51.359091Z",
          "shell.execute_reply": "2023-07-21T08:20:51.754704Z"
        },
        "trusted": true,
        "id": "gVncXP62t2R3"
      },
      "execution_count": null,
      "outputs": []
    },
    {
      "cell_type": "code",
      "source": [
        "plt.figure(figsize=(7,4))\n",
        "plt.plot(recalls[:-1],precision[:-1],'b--',label='Precision')\n",
        "plt.ylabel('Precision')\n",
        "plt.xlabel(\"Recall\")\n",
        "plt.legend(loc='best')\n",
        "plt.show()"
      ],
      "metadata": {
        "execution": {
          "iopub.status.busy": "2023-07-21T08:21:04.796173Z",
          "iopub.execute_input": "2023-07-21T08:21:04.796698Z",
          "iopub.status.idle": "2023-07-21T08:21:05.119852Z",
          "shell.execute_reply.started": "2023-07-21T08:21:04.796653Z",
          "shell.execute_reply": "2023-07-21T08:21:05.118481Z"
        },
        "trusted": true,
        "id": "XAfb3MqUt2R4"
      },
      "execution_count": null,
      "outputs": []
    },
    {
      "cell_type": "code",
      "source": [
        "fpr,tpr,threshodlds=roc_curve(y_test,y_scores)\n",
        "plt.figure(figsize=(7,4))\n",
        "plt.plot(fpr,tpr,linewidth=3,label='Logistic Regression')\n",
        "plt.plot([0,1],[0,1],'k--',label='baseEstimator')\n",
        "plt.ylabel('True Positive Rate')\n",
        "plt.xlabel('False Positive Rate')\n",
        "plt.legend()\n",
        "plt.show()"
      ],
      "metadata": {
        "execution": {
          "iopub.status.busy": "2023-07-21T08:21:14.793789Z",
          "iopub.execute_input": "2023-07-21T08:21:14.794232Z",
          "iopub.status.idle": "2023-07-21T08:21:15.128417Z",
          "shell.execute_reply.started": "2023-07-21T08:21:14.794199Z",
          "shell.execute_reply": "2023-07-21T08:21:15.127052Z"
        },
        "trusted": true,
        "id": "yCcG0WPpt2R4"
      },
      "execution_count": null,
      "outputs": []
    },
    {
      "cell_type": "code",
      "source": [],
      "metadata": {
        "id": "o1wqvz-rt2R5"
      },
      "execution_count": null,
      "outputs": []
    },
    {
      "cell_type": "markdown",
      "source": [
        "# KNN Model"
      ],
      "metadata": {
        "id": "sGs7XLfGt2R5"
      }
    },
    {
      "cell_type": "code",
      "source": [
        "#from sklearn.neighbors import KNeighborsClassifier"
      ],
      "metadata": {
        "execution": {
          "iopub.status.busy": "2023-07-16T15:57:32.552796Z",
          "iopub.execute_input": "2023-07-16T15:57:32.553138Z",
          "iopub.status.idle": "2023-07-16T15:57:32.562747Z",
          "shell.execute_reply.started": "2023-07-16T15:57:32.553113Z",
          "shell.execute_reply": "2023-07-16T15:57:32.56181Z"
        },
        "trusted": true,
        "id": "yf4Nqg4nt2R5"
      },
      "execution_count": null,
      "outputs": []
    },
    {
      "cell_type": "code",
      "source": [
        "#knn_classifier=KNeighborsClassifier(n_neighbors=4,n_jobs=-1)"
      ],
      "metadata": {
        "execution": {
          "iopub.status.busy": "2023-07-16T15:57:32.564305Z",
          "iopub.execute_input": "2023-07-16T15:57:32.564643Z",
          "iopub.status.idle": "2023-07-16T15:57:32.574416Z",
          "shell.execute_reply.started": "2023-07-16T15:57:32.564533Z",
          "shell.execute_reply": "2023-07-16T15:57:32.572913Z"
        },
        "trusted": true,
        "id": "6WJ6ctH0t2R6"
      },
      "execution_count": null,
      "outputs": []
    },
    {
      "cell_type": "code",
      "source": [
        "#knn_classifier.fit(x_train_encoded,y_train)"
      ],
      "metadata": {
        "execution": {
          "iopub.status.busy": "2023-07-16T15:57:32.575984Z",
          "iopub.execute_input": "2023-07-16T15:57:32.576279Z",
          "iopub.status.idle": "2023-07-16T15:57:32.585188Z",
          "shell.execute_reply.started": "2023-07-16T15:57:32.576257Z",
          "shell.execute_reply": "2023-07-16T15:57:32.584315Z"
        },
        "trusted": true,
        "id": "dSpYyIqbt2R6"
      },
      "execution_count": null,
      "outputs": []
    },
    {
      "cell_type": "code",
      "source": [
        "#y_pred=knn_classifier.predict(x_test_encoded)"
      ],
      "metadata": {
        "execution": {
          "iopub.status.busy": "2023-07-16T15:57:32.586575Z",
          "iopub.execute_input": "2023-07-16T15:57:32.586873Z",
          "iopub.status.idle": "2023-07-16T15:57:32.595385Z",
          "shell.execute_reply.started": "2023-07-16T15:57:32.586846Z",
          "shell.execute_reply": "2023-07-16T15:57:32.594574Z"
        },
        "trusted": true,
        "id": "-RaJL1dot2R6"
      },
      "execution_count": null,
      "outputs": []
    },
    {
      "cell_type": "code",
      "source": [
        "#acc=accuracy_score(y_test,y_pred)\n",
        "#acc"
      ],
      "metadata": {
        "execution": {
          "iopub.status.busy": "2023-07-16T15:57:32.596352Z",
          "iopub.execute_input": "2023-07-16T15:57:32.596691Z",
          "iopub.status.idle": "2023-07-16T15:57:32.606104Z",
          "shell.execute_reply.started": "2023-07-16T15:57:32.596662Z",
          "shell.execute_reply": "2023-07-16T15:57:32.60506Z"
        },
        "trusted": true,
        "id": "yXO7FFLCt2R7"
      },
      "execution_count": null,
      "outputs": []
    },
    {
      "cell_type": "code",
      "source": [
        "'''from sklearn.model_selection import GridSearchCV\n",
        "grid_params={'n_neighbors' : [9,15,30,45,60,75,90],\n",
        "             'p':[2],\n",
        "             'algorithm':['auto'],\n",
        "\n",
        "\n",
        "            }\n",
        "\n",
        "\n",
        "knn=KNeighborsClassifier()\n",
        "\n",
        "\n",
        "grid_search= GridSearchCV(knn, param_grid=grid_params,\n",
        "                   cv=2,\n",
        "                   verbose=3,\n",
        "                   return_train_score=True\n",
        "                  )'''"
      ],
      "metadata": {
        "execution": {
          "iopub.status.busy": "2023-07-16T15:57:32.6073Z",
          "iopub.execute_input": "2023-07-16T15:57:32.607685Z",
          "iopub.status.idle": "2023-07-16T15:57:32.619283Z",
          "shell.execute_reply.started": "2023-07-16T15:57:32.607651Z",
          "shell.execute_reply": "2023-07-16T15:57:32.618046Z"
        },
        "trusted": true,
        "id": "tNo6f2XFt2R7"
      },
      "execution_count": null,
      "outputs": []
    },
    {
      "cell_type": "code",
      "source": [
        "#grid_search.fit(x_train_encoded,y_train)"
      ],
      "metadata": {
        "execution": {
          "iopub.status.busy": "2023-07-16T15:57:32.620761Z",
          "iopub.execute_input": "2023-07-16T15:57:32.621085Z",
          "iopub.status.idle": "2023-07-16T15:57:32.628889Z",
          "shell.execute_reply.started": "2023-07-16T15:57:32.621061Z",
          "shell.execute_reply": "2023-07-16T15:57:32.628052Z"
        },
        "trusted": true,
        "id": "9FWIAq0st2R7"
      },
      "execution_count": null,
      "outputs": []
    },
    {
      "cell_type": "code",
      "source": [
        "#print(grid_search.best_params_)"
      ],
      "metadata": {
        "execution": {
          "iopub.status.busy": "2023-07-16T15:57:32.629859Z",
          "iopub.execute_input": "2023-07-16T15:57:32.630124Z",
          "iopub.status.idle": "2023-07-16T15:57:32.640254Z",
          "shell.execute_reply.started": "2023-07-16T15:57:32.630099Z",
          "shell.execute_reply": "2023-07-16T15:57:32.639067Z"
        },
        "trusted": true,
        "id": "lrH_zjTTt2R8"
      },
      "execution_count": null,
      "outputs": []
    },
    {
      "cell_type": "code",
      "source": [
        "#grid_search.cv_results_"
      ],
      "metadata": {
        "execution": {
          "iopub.status.busy": "2023-07-16T15:57:32.641338Z",
          "iopub.execute_input": "2023-07-16T15:57:32.641685Z",
          "iopub.status.idle": "2023-07-16T15:57:32.652371Z",
          "shell.execute_reply.started": "2023-07-16T15:57:32.641656Z",
          "shell.execute_reply": "2023-07-16T15:57:32.651379Z"
        },
        "trusted": true,
        "id": "5p7RxorLt2R9"
      },
      "execution_count": null,
      "outputs": []
    },
    {
      "cell_type": "code",
      "source": [
        "#train_score=grid_search.cv_results_['mean_train_score']\n",
        "#test_score=grid_search.cv_results_['mean_test_score']"
      ],
      "metadata": {
        "execution": {
          "iopub.status.busy": "2023-07-16T15:57:32.654528Z",
          "iopub.execute_input": "2023-07-16T15:57:32.654908Z",
          "iopub.status.idle": "2023-07-16T15:57:32.663715Z",
          "shell.execute_reply.started": "2023-07-16T15:57:32.654882Z",
          "shell.execute_reply": "2023-07-16T15:57:32.662639Z"
        },
        "trusted": true,
        "id": "NtL_utIft2R9"
      },
      "execution_count": null,
      "outputs": []
    },
    {
      "cell_type": "code",
      "source": [
        "'''n=[9,15,30,45,60,75,90]\n",
        "plt.plot(n,train_score,'b-x',label='Training_score')\n",
        "plt.plot(n,test_score,'r-x',label='Validation_score')\n",
        "plt.legend(loc='center right')\n",
        "plt.title('Validation Curve with KNN Classifier')'''"
      ],
      "metadata": {
        "execution": {
          "iopub.status.busy": "2023-07-16T15:57:32.666593Z",
          "iopub.execute_input": "2023-07-16T15:57:32.66691Z",
          "iopub.status.idle": "2023-07-16T15:57:32.677102Z",
          "shell.execute_reply.started": "2023-07-16T15:57:32.666885Z",
          "shell.execute_reply": "2023-07-16T15:57:32.676135Z"
        },
        "trusted": true,
        "id": "8PjJhFH4t2R9"
      },
      "execution_count": null,
      "outputs": []
    },
    {
      "cell_type": "code",
      "source": [
        "#model_selector=grid_search.best_estimator_\n",
        "#print(\"Best Model: \",model_selector)"
      ],
      "metadata": {
        "execution": {
          "iopub.status.busy": "2023-07-16T15:57:32.677974Z",
          "iopub.execute_input": "2023-07-16T15:57:32.67832Z",
          "iopub.status.idle": "2023-07-16T15:57:32.686884Z",
          "shell.execute_reply.started": "2023-07-16T15:57:32.678295Z",
          "shell.execute_reply": "2023-07-16T15:57:32.685876Z"
        },
        "trusted": true,
        "id": "YtSymm5Dt2R-"
      },
      "execution_count": null,
      "outputs": []
    },
    {
      "cell_type": "code",
      "source": [
        "#from sklearn.metrics import roc_curve,auc\n",
        "\n",
        "#train_fpt,train_tpr,thresholds=roc_curve(y_train,grid_search_results_cv.predict_proba(x_train_encoded))\n",
        "#train_fpt,train_tpr,thresholds=roc_curve(y_test,grid_search_results_cv.predict_proba(x_test_encoded))"
      ],
      "metadata": {
        "execution": {
          "iopub.status.busy": "2023-07-16T15:57:32.687764Z",
          "iopub.execute_input": "2023-07-16T15:57:32.68805Z",
          "iopub.status.idle": "2023-07-16T15:57:32.699257Z",
          "shell.execute_reply.started": "2023-07-16T15:57:32.688028Z",
          "shell.execute_reply": "2023-07-16T15:57:32.697998Z"
        },
        "trusted": true,
        "id": "yClfH9YQt2R-"
      },
      "execution_count": null,
      "outputs": []
    },
    {
      "cell_type": "markdown",
      "source": [],
      "metadata": {
        "id": "0jz8DTitt2R-"
      }
    },
    {
      "cell_type": "code",
      "source": [
        "#y_pred=grid_search.predict(x_test_encoded)"
      ],
      "metadata": {
        "execution": {
          "iopub.status.busy": "2023-07-16T15:57:32.700437Z",
          "iopub.execute_input": "2023-07-16T15:57:32.700737Z",
          "iopub.status.idle": "2023-07-16T15:57:32.711011Z",
          "shell.execute_reply.started": "2023-07-16T15:57:32.700715Z",
          "shell.execute_reply": "2023-07-16T15:57:32.709677Z"
        },
        "trusted": true,
        "id": "_2DqlBhIt2R_"
      },
      "execution_count": null,
      "outputs": []
    },
    {
      "cell_type": "code",
      "source": [
        "#acc=accuracy_score(y_test,y_pred)\n",
        "#acc"
      ],
      "metadata": {
        "execution": {
          "iopub.status.busy": "2023-07-16T15:57:32.72304Z",
          "iopub.execute_input": "2023-07-16T15:57:32.723407Z",
          "iopub.status.idle": "2023-07-16T15:57:32.727033Z",
          "shell.execute_reply.started": "2023-07-16T15:57:32.723384Z",
          "shell.execute_reply": "2023-07-16T15:57:32.726311Z"
        },
        "trusted": true,
        "id": "H_yv95NUt2R_"
      },
      "execution_count": null,
      "outputs": []
    },
    {
      "cell_type": "code",
      "source": [
        "#import matplotlib.pyplot as plt\n",
        "#from sklearn.metrics import confusion_matrix"
      ],
      "metadata": {
        "execution": {
          "iopub.status.busy": "2023-07-16T15:57:32.72786Z",
          "iopub.execute_input": "2023-07-16T15:57:32.728137Z",
          "iopub.status.idle": "2023-07-16T15:57:32.737798Z",
          "shell.execute_reply.started": "2023-07-16T15:57:32.728117Z",
          "shell.execute_reply": "2023-07-16T15:57:32.737106Z"
        },
        "trusted": true,
        "id": "VvPJ2fCQt2SA"
      },
      "execution_count": null,
      "outputs": []
    },
    {
      "cell_type": "code",
      "source": [
        "#cf_matrix=confusion_matrix(y_test,y_pred)\n",
        "#cf_matrix"
      ],
      "metadata": {
        "execution": {
          "iopub.status.busy": "2023-07-16T15:57:32.739463Z",
          "iopub.execute_input": "2023-07-16T15:57:32.739915Z",
          "iopub.status.idle": "2023-07-16T15:57:32.749734Z",
          "shell.execute_reply.started": "2023-07-16T15:57:32.739882Z",
          "shell.execute_reply": "2023-07-16T15:57:32.748898Z"
        },
        "trusted": true,
        "id": "SDG2VjXTt2SB"
      },
      "execution_count": null,
      "outputs": []
    },
    {
      "cell_type": "code",
      "source": [
        "#import seaborn as sns\n",
        "#sns.heatmap(cf_matrix,annot=True)"
      ],
      "metadata": {
        "execution": {
          "iopub.status.busy": "2023-07-16T15:57:32.750569Z",
          "iopub.execute_input": "2023-07-16T15:57:32.75084Z",
          "iopub.status.idle": "2023-07-16T15:57:32.759707Z",
          "shell.execute_reply.started": "2023-07-16T15:57:32.750814Z",
          "shell.execute_reply": "2023-07-16T15:57:32.758975Z"
        },
        "trusted": true,
        "id": "9fnFGCirt2SB"
      },
      "execution_count": null,
      "outputs": []
    },
    {
      "cell_type": "markdown",
      "source": [
        "# Support Vector Machine(SVM)"
      ],
      "metadata": {
        "id": "V-qL1waBt2SC"
      }
    },
    {
      "cell_type": "code",
      "source": [
        "#from sklearn import svm"
      ],
      "metadata": {
        "execution": {
          "iopub.status.busy": "2023-07-16T15:57:32.760707Z",
          "iopub.execute_input": "2023-07-16T15:57:32.760948Z",
          "iopub.status.idle": "2023-07-16T15:57:32.772309Z",
          "shell.execute_reply.started": "2023-07-16T15:57:32.760908Z",
          "shell.execute_reply": "2023-07-16T15:57:32.771152Z"
        },
        "trusted": true,
        "id": "UOGgVXQnt2SC"
      },
      "execution_count": null,
      "outputs": []
    },
    {
      "cell_type": "code",
      "source": [
        "#svm_clf=svm.SVC(random_state=42,C=1,\n",
        " #              tol=0.1)"
      ],
      "metadata": {
        "execution": {
          "iopub.status.busy": "2023-07-16T15:57:32.773295Z",
          "iopub.execute_input": "2023-07-16T15:57:32.773601Z",
          "iopub.status.idle": "2023-07-16T15:57:32.784007Z",
          "shell.execute_reply.started": "2023-07-16T15:57:32.773577Z",
          "shell.execute_reply": "2023-07-16T15:57:32.783155Z"
        },
        "trusted": true,
        "id": "kRUhnf0-t2SC"
      },
      "execution_count": null,
      "outputs": []
    },
    {
      "cell_type": "code",
      "source": [
        "#svm_clf.fit(x_train_encoded,y_train)"
      ],
      "metadata": {
        "execution": {
          "iopub.status.busy": "2023-07-16T15:57:32.785614Z",
          "iopub.execute_input": "2023-07-16T15:57:32.785913Z",
          "iopub.status.idle": "2023-07-16T15:57:32.796365Z",
          "shell.execute_reply.started": "2023-07-16T15:57:32.78589Z",
          "shell.execute_reply": "2023-07-16T15:57:32.794786Z"
        },
        "trusted": true,
        "id": "gtFClt81t2SD"
      },
      "execution_count": null,
      "outputs": []
    },
    {
      "cell_type": "code",
      "source": [
        "#y_pred=svm_clf.predict(x_test_encoded)"
      ],
      "metadata": {
        "execution": {
          "iopub.status.busy": "2023-07-16T15:57:32.797521Z",
          "iopub.execute_input": "2023-07-16T15:57:32.797832Z",
          "iopub.status.idle": "2023-07-16T15:57:32.813089Z",
          "shell.execute_reply.started": "2023-07-16T15:57:32.797809Z",
          "shell.execute_reply": "2023-07-16T15:57:32.811995Z"
        },
        "trusted": true,
        "id": "TfFLC499t2SD"
      },
      "execution_count": null,
      "outputs": []
    },
    {
      "cell_type": "code",
      "source": [
        "#print(\"Validation Score:\",accuracy_score(y_test,y_pred))"
      ],
      "metadata": {
        "execution": {
          "iopub.status.busy": "2023-07-16T15:57:32.814377Z",
          "iopub.execute_input": "2023-07-16T15:57:32.814682Z",
          "iopub.status.idle": "2023-07-16T15:57:32.822361Z",
          "shell.execute_reply.started": "2023-07-16T15:57:32.814658Z",
          "shell.execute_reply": "2023-07-16T15:57:32.821666Z"
        },
        "trusted": true,
        "id": "JwSsovyCt2SD"
      },
      "execution_count": null,
      "outputs": []
    },
    {
      "cell_type": "code",
      "source": [],
      "metadata": {
        "id": "xVLG3GvHt2SE"
      },
      "execution_count": null,
      "outputs": []
    },
    {
      "cell_type": "code",
      "source": [
        "#print(classificationreport(y_test,y_pred))"
      ],
      "metadata": {
        "execution": {
          "iopub.status.busy": "2023-07-16T15:57:32.823505Z",
          "iopub.execute_input": "2023-07-16T15:57:32.823832Z",
          "iopub.status.idle": "2023-07-16T15:57:32.833584Z",
          "shell.execute_reply.started": "2023-07-16T15:57:32.823809Z",
          "shell.execute_reply": "2023-07-16T15:57:32.832528Z"
        },
        "trusted": true,
        "id": "ML9GF8sDt2SE"
      },
      "execution_count": null,
      "outputs": []
    },
    {
      "cell_type": "markdown",
      "source": [
        "# Decision Tree Classifier"
      ],
      "metadata": {
        "id": "OE9osajLt2SE"
      }
    },
    {
      "cell_type": "code",
      "source": [
        "#from sklearn.tree import DecisionTreeClassifier"
      ],
      "metadata": {
        "execution": {
          "iopub.status.busy": "2023-07-17T15:14:32.428643Z",
          "iopub.execute_input": "2023-07-17T15:14:32.429047Z",
          "iopub.status.idle": "2023-07-17T15:14:32.721624Z",
          "shell.execute_reply.started": "2023-07-17T15:14:32.429014Z",
          "shell.execute_reply": "2023-07-17T15:14:32.720596Z"
        },
        "trusted": true,
        "id": "FnmlWwKCt2SF"
      },
      "execution_count": null,
      "outputs": []
    },
    {
      "cell_type": "code",
      "source": [
        "#Dtree_clf=Pipeline([('dtc',DecisionTreeClassifier(random_state=42))])"
      ],
      "metadata": {
        "execution": {
          "iopub.status.busy": "2023-07-16T15:57:32.844892Z",
          "iopub.execute_input": "2023-07-16T15:57:32.8453Z",
          "iopub.status.idle": "2023-07-16T15:57:32.853519Z",
          "shell.execute_reply.started": "2023-07-16T15:57:32.845272Z",
          "shell.execute_reply": "2023-07-16T15:57:32.852288Z"
        },
        "trusted": true,
        "id": "fcxZ5Twit2SG"
      },
      "execution_count": null,
      "outputs": []
    },
    {
      "cell_type": "code",
      "source": [
        "#Dtree_clf.fit(x_train_encoded,y_train)"
      ],
      "metadata": {
        "execution": {
          "iopub.status.busy": "2023-07-16T15:57:32.854838Z",
          "iopub.execute_input": "2023-07-16T15:57:32.855379Z",
          "iopub.status.idle": "2023-07-16T15:57:32.866477Z",
          "shell.execute_reply.started": "2023-07-16T15:57:32.855329Z",
          "shell.execute_reply": "2023-07-16T15:57:32.865275Z"
        },
        "trusted": true,
        "id": "-cOeB8aDt2SH"
      },
      "execution_count": null,
      "outputs": []
    },
    {
      "cell_type": "code",
      "source": [
        "#y_pred=Dtree_clf.predict(x_test_encoded)"
      ],
      "metadata": {
        "execution": {
          "iopub.status.busy": "2023-07-16T15:57:32.868Z",
          "iopub.execute_input": "2023-07-16T15:57:32.86839Z",
          "iopub.status.idle": "2023-07-16T15:57:32.875282Z",
          "shell.execute_reply.started": "2023-07-16T15:57:32.868357Z",
          "shell.execute_reply": "2023-07-16T15:57:32.874441Z"
        },
        "trusted": true,
        "id": "VvGmqjqct2SH"
      },
      "execution_count": null,
      "outputs": []
    },
    {
      "cell_type": "code",
      "source": [
        "#print(\"Test_score:\", accuracy_score(y_test,y_pred))"
      ],
      "metadata": {
        "execution": {
          "iopub.status.busy": "2023-07-16T15:57:32.876116Z",
          "iopub.execute_input": "2023-07-16T15:57:32.876401Z",
          "iopub.status.idle": "2023-07-16T15:57:32.886233Z",
          "shell.execute_reply.started": "2023-07-16T15:57:32.876374Z",
          "shell.execute_reply": "2023-07-16T15:57:32.885217Z"
        },
        "trusted": true,
        "id": "7MXHcuYot2SI"
      },
      "execution_count": null,
      "outputs": []
    },
    {
      "cell_type": "code",
      "source": [
        "'''parameter={\n",
        "    'dtc__criterion':['gini','entropy','log_loss']\n",
        "}\n",
        "\n",
        "dtc_grid_search=GridSearchCV(Dtree_clf,\n",
        "                            cv=2,scoring='accuracy',\n",
        "                            param_grid=parameter)'''"
      ],
      "metadata": {
        "execution": {
          "iopub.status.busy": "2023-07-16T15:57:32.887571Z",
          "iopub.execute_input": "2023-07-16T15:57:32.887948Z",
          "iopub.status.idle": "2023-07-16T15:57:32.899146Z",
          "shell.execute_reply.started": "2023-07-16T15:57:32.887903Z",
          "shell.execute_reply": "2023-07-16T15:57:32.898114Z"
        },
        "trusted": true,
        "id": "DIyRRUyLt2SI"
      },
      "execution_count": null,
      "outputs": []
    },
    {
      "cell_type": "code",
      "source": [
        "#dtc_grid_search.fit(x_train_encoded,y_train)"
      ],
      "metadata": {
        "execution": {
          "iopub.status.busy": "2023-07-16T15:57:32.900007Z",
          "iopub.execute_input": "2023-07-16T15:57:32.900302Z",
          "iopub.status.idle": "2023-07-16T15:57:32.907584Z",
          "shell.execute_reply.started": "2023-07-16T15:57:32.90028Z",
          "shell.execute_reply": "2023-07-16T15:57:32.906978Z"
        },
        "trusted": true,
        "id": "NwxbJQzlt2SJ"
      },
      "execution_count": null,
      "outputs": []
    },
    {
      "cell_type": "code",
      "source": [
        "#dtc_grid_search.best_params_"
      ],
      "metadata": {
        "execution": {
          "iopub.status.busy": "2023-07-16T15:57:32.908562Z",
          "iopub.execute_input": "2023-07-16T15:57:32.908796Z",
          "iopub.status.idle": "2023-07-16T15:57:32.917072Z",
          "shell.execute_reply.started": "2023-07-16T15:57:32.908777Z",
          "shell.execute_reply": "2023-07-16T15:57:32.916472Z"
        },
        "trusted": true,
        "id": "yWhLMHZNt2SJ"
      },
      "execution_count": null,
      "outputs": []
    },
    {
      "cell_type": "code",
      "source": [
        "#dtc_grid_search.cv_results_"
      ],
      "metadata": {
        "execution": {
          "iopub.status.busy": "2023-07-16T15:57:32.917898Z",
          "iopub.execute_input": "2023-07-16T15:57:32.918211Z",
          "iopub.status.idle": "2023-07-16T15:57:32.927886Z",
          "shell.execute_reply.started": "2023-07-16T15:57:32.918187Z",
          "shell.execute_reply": "2023-07-16T15:57:32.927156Z"
        },
        "trusted": true,
        "id": "n0HTaZ71t2SQ"
      },
      "execution_count": null,
      "outputs": []
    },
    {
      "cell_type": "code",
      "source": [
        "'''parameter={\n",
        "    'dtc__criterion':['entropy'],\n",
        "    'dtc__splitter':['best','random'],\n",
        "    'dtc__max_features':['sqrt','log2']\n",
        "}\n",
        "\n",
        "dtc_grid_search=GridSearchCV(Dtree_clf,\n",
        "                            cv=2,scoring='accuracy',\n",
        "                            param_grid=parameter)'''\n"
      ],
      "metadata": {
        "execution": {
          "iopub.status.busy": "2023-07-16T15:57:32.929304Z",
          "iopub.execute_input": "2023-07-16T15:57:32.930103Z",
          "iopub.status.idle": "2023-07-16T15:57:32.938533Z",
          "shell.execute_reply.started": "2023-07-16T15:57:32.93007Z",
          "shell.execute_reply": "2023-07-16T15:57:32.937756Z"
        },
        "trusted": true,
        "id": "9Pt-G95st2SQ"
      },
      "execution_count": null,
      "outputs": []
    },
    {
      "cell_type": "code",
      "source": [
        "#dtc_grid_search.fit(x_train_encoded,y_train)"
      ],
      "metadata": {
        "execution": {
          "iopub.status.busy": "2023-07-16T15:57:32.939595Z",
          "iopub.execute_input": "2023-07-16T15:57:32.939884Z",
          "iopub.status.idle": "2023-07-16T15:57:32.951474Z",
          "shell.execute_reply.started": "2023-07-16T15:57:32.939857Z",
          "shell.execute_reply": "2023-07-16T15:57:32.950511Z"
        },
        "trusted": true,
        "id": "TMK6AsTAt2SR"
      },
      "execution_count": null,
      "outputs": []
    },
    {
      "cell_type": "code",
      "source": [
        "#dtc_grid_search.cv_results_"
      ],
      "metadata": {
        "execution": {
          "iopub.status.busy": "2023-07-16T15:57:32.952604Z",
          "iopub.execute_input": "2023-07-16T15:57:32.952897Z",
          "iopub.status.idle": "2023-07-16T15:57:32.961222Z",
          "shell.execute_reply.started": "2023-07-16T15:57:32.952873Z",
          "shell.execute_reply": "2023-07-16T15:57:32.960299Z"
        },
        "trusted": true,
        "id": "N0eceNaht2SS"
      },
      "execution_count": null,
      "outputs": []
    },
    {
      "cell_type": "code",
      "source": [
        "#dtc_grid_search.best_params_"
      ],
      "metadata": {
        "execution": {
          "iopub.status.busy": "2023-07-16T15:57:32.962817Z",
          "iopub.execute_input": "2023-07-16T15:57:32.963214Z",
          "iopub.status.idle": "2023-07-16T15:57:32.972719Z",
          "shell.execute_reply.started": "2023-07-16T15:57:32.963181Z",
          "shell.execute_reply": "2023-07-16T15:57:32.971447Z"
        },
        "trusted": true,
        "id": "7CtLHsRFt2SS"
      },
      "execution_count": null,
      "outputs": []
    },
    {
      "cell_type": "code",
      "source": [
        "'''Dtree_clf=Pipeline([('dtc',DecisionTreeClassifier(random_state=42,\n",
        "                                                 criterion='entropy',\n",
        "                                                 max_features='sqrt',\n",
        "                                                 splitter='random'))])'''"
      ],
      "metadata": {
        "execution": {
          "iopub.status.busy": "2023-07-16T15:57:32.973872Z",
          "iopub.execute_input": "2023-07-16T15:57:32.974237Z",
          "iopub.status.idle": "2023-07-16T15:57:32.986673Z",
          "shell.execute_reply.started": "2023-07-16T15:57:32.974212Z",
          "shell.execute_reply": "2023-07-16T15:57:32.985673Z"
        },
        "trusted": true,
        "id": "YSpjzt7gt2SS"
      },
      "execution_count": null,
      "outputs": []
    },
    {
      "cell_type": "code",
      "source": [
        "'''max_depth=[100,200,300,400,500,600,700,800,900]\n",
        "train_score,test_score=validation_curve(\n",
        "                                        Dtree_clf,x_train_encoded,\n",
        "                                        y_train,param_name='dtc__max_depth',\n",
        "                                        param_range=max_depth,cv=2,\n",
        "                                        scoring='accuracy')\n",
        "\n",
        "plt.plot(max_depth,train_score.mean(axis=1),'b-x',label='Training_score')\n",
        "plt.plot(max_depth,test_score.mean(axis=1),'r-x',label='Validation_score')\n",
        "plt.legend(loc='center right')\n",
        "plt.title('Validation Curve with Logistic Regression')'''"
      ],
      "metadata": {
        "execution": {
          "iopub.status.busy": "2023-07-16T15:57:32.987551Z",
          "iopub.execute_input": "2023-07-16T15:57:32.987869Z",
          "iopub.status.idle": "2023-07-16T15:57:32.997795Z",
          "shell.execute_reply.started": "2023-07-16T15:57:32.987843Z",
          "shell.execute_reply": "2023-07-16T15:57:32.997092Z"
        },
        "trusted": true,
        "id": "ivOSj87gt2ST"
      },
      "execution_count": null,
      "outputs": []
    },
    {
      "cell_type": "code",
      "source": [
        "'''Dtree_clf=Pipeline([('dtc',DecisionTreeClassifier(random_state=42,\n",
        "                                                 criterion='entropy',\n",
        "                                                 max_features='sqrt',\n",
        "                                                 splitter='random',\n",
        "                                                 max_depth=400,))])'''"
      ],
      "metadata": {
        "execution": {
          "iopub.status.busy": "2023-07-16T15:57:32.998582Z",
          "iopub.execute_input": "2023-07-16T15:57:32.998845Z",
          "iopub.status.idle": "2023-07-16T15:57:33.013549Z",
          "shell.execute_reply.started": "2023-07-16T15:57:32.998821Z",
          "shell.execute_reply": "2023-07-16T15:57:33.012396Z"
        },
        "trusted": true,
        "id": "gqIP24f3t2SY"
      },
      "execution_count": null,
      "outputs": []
    },
    {
      "cell_type": "code",
      "source": [
        "'''min_samples_split=np.arange(500,1200,10)\n",
        "train_score,test_score=validation_curve(\n",
        "                                        Dtree_clf,x_train_encoded,\n",
        "                                        y_train,param_name='dtc__min_samples_split',\n",
        "                                        param_range=min_samples_split,cv=2,\n",
        "                                        scoring='accuracy')\n",
        "\n",
        "plt.plot(min_samples_split,train_score.mean(axis=1),'b-x',label='Training_score')\n",
        "plt.plot(min_samples_split,test_score.mean(axis=1),'r-x',label='Validation_score')\n",
        "plt.legend(loc='best')\n",
        "plt.title('Validation Curve with Logistic Regression')'''"
      ],
      "metadata": {
        "execution": {
          "iopub.status.busy": "2023-07-16T15:57:33.014431Z",
          "iopub.execute_input": "2023-07-16T15:57:33.014714Z",
          "iopub.status.idle": "2023-07-16T15:57:33.024147Z",
          "shell.execute_reply.started": "2023-07-16T15:57:33.014692Z",
          "shell.execute_reply": "2023-07-16T15:57:33.023083Z"
        },
        "trusted": true,
        "id": "Y9lhEZjDt2SY"
      },
      "execution_count": null,
      "outputs": []
    },
    {
      "cell_type": "code",
      "source": [
        "'''parameters={\n",
        "    'dtc__min_samples_split':np.arange(500,1200,10)\n",
        "}\n",
        "dtc_grid_search=GridSearchCV(Dtree_clf,\n",
        "                            cv=2,scoring='accuracy',\n",
        "                            param_grid=parameters)'''"
      ],
      "metadata": {
        "execution": {
          "iopub.status.busy": "2023-07-16T15:57:33.025452Z",
          "iopub.execute_input": "2023-07-16T15:57:33.025775Z",
          "iopub.status.idle": "2023-07-16T15:57:33.03614Z",
          "shell.execute_reply.started": "2023-07-16T15:57:33.025749Z",
          "shell.execute_reply": "2023-07-16T15:57:33.035003Z"
        },
        "trusted": true,
        "id": "v2ifvUL4t2SY"
      },
      "execution_count": null,
      "outputs": []
    },
    {
      "cell_type": "code",
      "source": [
        "#dtc_grid_search.fit(x_train_encoded,y_train)"
      ],
      "metadata": {
        "execution": {
          "iopub.status.busy": "2023-07-16T15:57:33.037354Z",
          "iopub.execute_input": "2023-07-16T15:57:33.037744Z",
          "iopub.status.idle": "2023-07-16T15:57:33.044888Z",
          "shell.execute_reply.started": "2023-07-16T15:57:33.037712Z",
          "shell.execute_reply": "2023-07-16T15:57:33.044047Z"
        },
        "trusted": true,
        "id": "sTTHn474t2SZ"
      },
      "execution_count": null,
      "outputs": []
    },
    {
      "cell_type": "code",
      "source": [
        "#print(\"Training Score:\",dtc_grid_search.best_estimator_.score(x_train_encoded,y_train))"
      ],
      "metadata": {
        "execution": {
          "iopub.status.busy": "2023-07-16T15:57:33.046169Z",
          "iopub.execute_input": "2023-07-16T15:57:33.046495Z",
          "iopub.status.idle": "2023-07-16T15:57:33.055841Z",
          "shell.execute_reply.started": "2023-07-16T15:57:33.046465Z",
          "shell.execute_reply": "2023-07-16T15:57:33.055288Z"
        },
        "trusted": true,
        "id": "Sx9B5AzKt2Sa"
      },
      "execution_count": null,
      "outputs": []
    },
    {
      "cell_type": "code",
      "source": [
        "#dtc_grid_search.best_params_"
      ],
      "metadata": {
        "execution": {
          "iopub.status.busy": "2023-07-16T15:57:33.057013Z",
          "iopub.execute_input": "2023-07-16T15:57:33.057244Z",
          "iopub.status.idle": "2023-07-16T15:57:33.066771Z",
          "shell.execute_reply.started": "2023-07-16T15:57:33.057224Z",
          "shell.execute_reply": "2023-07-16T15:57:33.065894Z"
        },
        "trusted": true,
        "id": "xZfK_TQot2Sa"
      },
      "execution_count": null,
      "outputs": []
    },
    {
      "cell_type": "code",
      "source": [
        "#y_pred=dtc_grid_search.predict(x_test_encoded)"
      ],
      "metadata": {
        "execution": {
          "iopub.status.busy": "2023-07-16T15:57:33.067938Z",
          "iopub.execute_input": "2023-07-16T15:57:33.06829Z",
          "iopub.status.idle": "2023-07-16T15:57:33.076604Z",
          "shell.execute_reply.started": "2023-07-16T15:57:33.068265Z",
          "shell.execute_reply": "2023-07-16T15:57:33.075672Z"
        },
        "trusted": true,
        "id": "joaz3-oNt2Sa"
      },
      "execution_count": null,
      "outputs": []
    },
    {
      "cell_type": "code",
      "source": [
        "#print(\"Testing Score:\",accuracy_score(y_test,y_pred))"
      ],
      "metadata": {
        "execution": {
          "iopub.status.busy": "2023-07-16T15:57:33.077912Z",
          "iopub.execute_input": "2023-07-16T15:57:33.078226Z",
          "iopub.status.idle": "2023-07-16T15:57:33.091919Z",
          "shell.execute_reply.started": "2023-07-16T15:57:33.078204Z",
          "shell.execute_reply": "2023-07-16T15:57:33.090887Z"
        },
        "trusted": true,
        "id": "HyNPoJ5bt2Sa"
      },
      "execution_count": null,
      "outputs": []
    },
    {
      "cell_type": "code",
      "source": [
        "#print(classification_report(y_test,y_pred))"
      ],
      "metadata": {
        "execution": {
          "iopub.status.busy": "2023-07-16T15:57:33.093157Z",
          "iopub.execute_input": "2023-07-16T15:57:33.093441Z",
          "iopub.status.idle": "2023-07-16T15:57:33.102418Z",
          "shell.execute_reply.started": "2023-07-16T15:57:33.093418Z",
          "shell.execute_reply": "2023-07-16T15:57:33.101689Z"
        },
        "trusted": true,
        "id": "p1w9UxJFt2Sb"
      },
      "execution_count": null,
      "outputs": []
    },
    {
      "cell_type": "markdown",
      "source": [
        "# Bagging Classifier"
      ],
      "metadata": {
        "id": "cPMIw627t2Sb"
      }
    },
    {
      "cell_type": "code",
      "source": [
        "#from sklearn.ensemble import BaggingClassifier"
      ],
      "metadata": {
        "execution": {
          "iopub.status.busy": "2023-07-16T15:57:33.10356Z",
          "iopub.execute_input": "2023-07-16T15:57:33.103889Z",
          "iopub.status.idle": "2023-07-16T15:57:33.111961Z",
          "shell.execute_reply.started": "2023-07-16T15:57:33.103867Z",
          "shell.execute_reply": "2023-07-16T15:57:33.111283Z"
        },
        "trusted": true,
        "id": "FSmn4Z2Xt2Sb"
      },
      "execution_count": null,
      "outputs": []
    },
    {
      "cell_type": "code",
      "source": [
        "'''DT_clf=DecisionTreeClassifier(random_state=42,\n",
        "                               criterion='entropy',\n",
        "                               max_features='sqrt',\n",
        "                               splitter='random',\n",
        "                               max_depth=400,\n",
        "                               min_samples_split=1130)'''"
      ],
      "metadata": {
        "execution": {
          "iopub.status.busy": "2023-07-17T15:14:43.259176Z",
          "iopub.execute_input": "2023-07-17T15:14:43.25955Z",
          "iopub.status.idle": "2023-07-17T15:14:43.265513Z",
          "shell.execute_reply.started": "2023-07-17T15:14:43.259521Z",
          "shell.execute_reply": "2023-07-17T15:14:43.264086Z"
        },
        "trusted": true,
        "id": "JjgEwDDHt2Sb"
      },
      "execution_count": null,
      "outputs": []
    },
    {
      "cell_type": "code",
      "source": [
        "#model=Pipeline([('bagg',BaggingClassifier(estimator=DT_clf,\n",
        " #                      warm_start=True))])"
      ],
      "metadata": {
        "execution": {
          "iopub.status.busy": "2023-07-16T15:57:33.124877Z",
          "iopub.execute_input": "2023-07-16T15:57:33.125198Z",
          "iopub.status.idle": "2023-07-16T15:57:33.13633Z",
          "shell.execute_reply.started": "2023-07-16T15:57:33.125174Z",
          "shell.execute_reply": "2023-07-16T15:57:33.135305Z"
        },
        "trusted": true,
        "id": "89-JYzVdt2Sc"
      },
      "execution_count": null,
      "outputs": []
    },
    {
      "cell_type": "code",
      "source": [
        "#model.fit(x_train_encoded,y_train)"
      ],
      "metadata": {
        "execution": {
          "iopub.status.busy": "2023-07-16T15:57:33.137414Z",
          "iopub.execute_input": "2023-07-16T15:57:33.138438Z",
          "iopub.status.idle": "2023-07-16T15:57:39.525493Z",
          "shell.execute_reply.started": "2023-07-16T15:57:33.138397Z",
          "shell.execute_reply": "2023-07-16T15:57:39.524711Z"
        },
        "trusted": true,
        "id": "mGAEYkWHt2Sc"
      },
      "execution_count": null,
      "outputs": []
    },
    {
      "cell_type": "code",
      "source": [
        "#y_pred=model.predict(x_test_encoded)"
      ],
      "metadata": {
        "execution": {
          "iopub.status.busy": "2023-07-16T15:57:39.526195Z",
          "iopub.status.idle": "2023-07-16T15:57:39.527073Z",
          "shell.execute_reply.started": "2023-07-16T15:57:39.526876Z",
          "shell.execute_reply": "2023-07-16T15:57:39.526892Z"
        },
        "trusted": true,
        "id": "h4yy0spgt2Sc"
      },
      "execution_count": null,
      "outputs": []
    },
    {
      "cell_type": "code",
      "source": [
        "#print(\"Trainign Score\",model.score(x_train_encoded,y_train))"
      ],
      "metadata": {
        "execution": {
          "iopub.status.busy": "2023-07-16T15:57:39.528577Z",
          "iopub.status.idle": "2023-07-16T15:57:39.529144Z",
          "shell.execute_reply.started": "2023-07-16T15:57:39.528862Z",
          "shell.execute_reply": "2023-07-16T15:57:39.528883Z"
        },
        "trusted": true,
        "id": "nanXey7ft2Sd"
      },
      "execution_count": null,
      "outputs": []
    },
    {
      "cell_type": "code",
      "source": [
        "#print(\"Testing Score:\", accuracy_score(y_test,y_pred))"
      ],
      "metadata": {
        "execution": {
          "iopub.status.busy": "2023-07-16T15:57:39.53068Z",
          "iopub.status.idle": "2023-07-16T15:57:39.531146Z",
          "shell.execute_reply.started": "2023-07-16T15:57:39.530902Z",
          "shell.execute_reply": "2023-07-16T15:57:39.530942Z"
        },
        "trusted": true,
        "id": "m-2VaTsZt2Sd"
      },
      "execution_count": null,
      "outputs": []
    },
    {
      "cell_type": "code",
      "source": [
        "#from sklearn.metrics import classification_report"
      ],
      "metadata": {
        "execution": {
          "iopub.status.busy": "2023-07-18T10:19:57.164194Z",
          "iopub.execute_input": "2023-07-18T10:19:57.164576Z",
          "iopub.status.idle": "2023-07-18T10:19:57.170625Z",
          "shell.execute_reply.started": "2023-07-18T10:19:57.164548Z",
          "shell.execute_reply": "2023-07-18T10:19:57.169324Z"
        },
        "trusted": true,
        "id": "_BG9VopQt2Sd"
      },
      "execution_count": null,
      "outputs": []
    },
    {
      "cell_type": "code",
      "source": [
        "#print(classification_report(y_test,y_pred))"
      ],
      "metadata": {
        "execution": {
          "iopub.status.busy": "2023-07-16T15:57:39.535186Z",
          "iopub.status.idle": "2023-07-16T15:57:39.536026Z",
          "shell.execute_reply.started": "2023-07-16T15:57:39.535771Z",
          "shell.execute_reply": "2023-07-16T15:57:39.535792Z"
        },
        "trusted": true,
        "id": "_gUWi1CFt2Sd"
      },
      "execution_count": null,
      "outputs": []
    },
    {
      "cell_type": "code",
      "source": [
        "'''parameters = {\n",
        "    'bagg__n_estimators': [20, 50, 100, 200, 300]\n",
        "}\n",
        "clf = GridSearchCV(model, parameters, cv=2,\n",
        "                  scoring='accuracy',error_score=0,\n",
        "                  verbose=3)\n",
        "clf.fit(x_train_encoded,y_train)'''\n"
      ],
      "metadata": {
        "execution": {
          "iopub.status.busy": "2023-07-16T15:57:39.537378Z",
          "iopub.status.idle": "2023-07-16T15:57:39.538569Z",
          "shell.execute_reply.started": "2023-07-16T15:57:39.5383Z",
          "shell.execute_reply": "2023-07-16T15:57:39.538329Z"
        },
        "trusted": true,
        "id": "KNPSP_0Ht2Se"
      },
      "execution_count": null,
      "outputs": []
    },
    {
      "cell_type": "code",
      "source": [
        "#clf.best_params_"
      ],
      "metadata": {
        "execution": {
          "iopub.status.busy": "2023-07-16T15:57:39.539395Z",
          "iopub.status.idle": "2023-07-16T15:57:39.539717Z",
          "shell.execute_reply.started": "2023-07-16T15:57:39.539575Z",
          "shell.execute_reply": "2023-07-16T15:57:39.539589Z"
        },
        "trusted": true,
        "id": "Xu5yh5Gpt2Se"
      },
      "execution_count": null,
      "outputs": []
    },
    {
      "cell_type": "code",
      "source": [
        "'''parameters = {\n",
        "    'bagg__max_samples': [x/10 for x in range(1,11)]\n",
        "}\n",
        "clf = GridSearchCV(model, parameters, cv=2,\n",
        "                  scoring='accuracy',error_score=0,\n",
        "                  verbose=3)\n",
        "clf.fit(x_train_encoded,y_train)'''"
      ],
      "metadata": {
        "execution": {
          "iopub.status.busy": "2023-07-16T15:57:39.541241Z",
          "iopub.status.idle": "2023-07-16T15:57:39.541546Z",
          "shell.execute_reply.started": "2023-07-16T15:57:39.541401Z",
          "shell.execute_reply": "2023-07-16T15:57:39.541414Z"
        },
        "trusted": true,
        "id": "NKavCWbit2Sf"
      },
      "execution_count": null,
      "outputs": []
    },
    {
      "cell_type": "code",
      "source": [
        "#clf.best_params_"
      ],
      "metadata": {
        "execution": {
          "iopub.status.busy": "2023-07-16T15:57:39.542314Z",
          "iopub.status.idle": "2023-07-16T15:57:39.542586Z",
          "shell.execute_reply.started": "2023-07-16T15:57:39.542452Z",
          "shell.execute_reply": "2023-07-16T15:57:39.542465Z"
        },
        "trusted": true,
        "id": "aShOhl-Vt2Sf"
      },
      "execution_count": null,
      "outputs": []
    },
    {
      "cell_type": "code",
      "source": [
        "'''parameters = {\n",
        "    'bagg__max_features': [x/10 for x in range(1,11)]\n",
        "}\n",
        "clf = GridSearchCV(model, parameters, cv=2,\n",
        "                  scoring='accuracy',error_score=0,\n",
        "                  verbose=3)\n",
        "clf.fit(x_train_encoded,y_train)'''\n",
        "\n"
      ],
      "metadata": {
        "execution": {
          "iopub.status.busy": "2023-07-16T15:57:39.543309Z",
          "iopub.status.idle": "2023-07-16T15:57:39.543575Z",
          "shell.execute_reply.started": "2023-07-16T15:57:39.543447Z",
          "shell.execute_reply": "2023-07-16T15:57:39.543459Z"
        },
        "trusted": true,
        "id": "jHfCjVUwt2Sf"
      },
      "execution_count": null,
      "outputs": []
    },
    {
      "cell_type": "code",
      "source": [
        "#clf.best_params_"
      ],
      "metadata": {
        "execution": {
          "iopub.status.busy": "2023-07-16T15:57:39.544189Z",
          "iopub.status.idle": "2023-07-16T15:57:39.544464Z",
          "shell.execute_reply.started": "2023-07-16T15:57:39.544334Z",
          "shell.execute_reply": "2023-07-16T15:57:39.54435Z"
        },
        "trusted": true,
        "id": "-DRMDXI1t2Sg"
      },
      "execution_count": null,
      "outputs": []
    },
    {
      "cell_type": "code",
      "source": [
        "'''parameters = {\n",
        "    'bagg__n_estimators':[30,150,200,250],\n",
        "    'bagg__max_samples':[0.8],\n",
        "    'bagg__max_features':[0.9,0.95,1.0]\n",
        "}\n",
        "grid_search=GridSearchCV(model, parameters, cv=2,\n",
        "                  scoring='accuracy',error_score=0,\n",
        "                  verbose=3)\n",
        "grid_search.fit(x_train_encoded,y_train)'''\n"
      ],
      "metadata": {
        "execution": {
          "iopub.status.busy": "2023-07-16T15:57:39.546209Z",
          "iopub.status.idle": "2023-07-16T15:57:39.546633Z",
          "shell.execute_reply.started": "2023-07-16T15:57:39.546449Z",
          "shell.execute_reply": "2023-07-16T15:57:39.546465Z"
        },
        "trusted": true,
        "id": "BdeKtGcOt2Sg"
      },
      "execution_count": null,
      "outputs": []
    },
    {
      "cell_type": "code",
      "source": [],
      "metadata": {
        "id": "SBtYbK7it2Sh"
      },
      "execution_count": null,
      "outputs": []
    },
    {
      "cell_type": "code",
      "source": [
        "#print(\"Trainign Score\",grid_search.score(x_train_encoded,y_train))"
      ],
      "metadata": {
        "execution": {
          "iopub.status.busy": "2023-07-16T15:57:39.547448Z",
          "iopub.status.idle": "2023-07-16T15:57:39.547752Z",
          "shell.execute_reply.started": "2023-07-16T15:57:39.547612Z",
          "shell.execute_reply": "2023-07-16T15:57:39.547625Z"
        },
        "trusted": true,
        "id": "AaaSHD04t2Sh"
      },
      "execution_count": null,
      "outputs": []
    },
    {
      "cell_type": "code",
      "source": [
        "#y_pred=grid_search.predict(x_test_encoded)"
      ],
      "metadata": {
        "execution": {
          "iopub.status.busy": "2023-07-16T15:57:39.550254Z",
          "iopub.status.idle": "2023-07-16T15:57:39.550651Z",
          "shell.execute_reply.started": "2023-07-16T15:57:39.550485Z",
          "shell.execute_reply": "2023-07-16T15:57:39.550501Z"
        },
        "trusted": true,
        "id": "VxtA6i_qt2Sh"
      },
      "execution_count": null,
      "outputs": []
    },
    {
      "cell_type": "code",
      "source": [
        "#print(\"Testing Score:\", accuracy_score(y_test,y_pred))"
      ],
      "metadata": {
        "execution": {
          "iopub.status.busy": "2023-07-16T15:57:39.551704Z",
          "iopub.status.idle": "2023-07-16T15:57:39.552057Z",
          "shell.execute_reply.started": "2023-07-16T15:57:39.551872Z",
          "shell.execute_reply": "2023-07-16T15:57:39.551886Z"
        },
        "trusted": true,
        "id": "-s2U9p9Mt2Si"
      },
      "execution_count": null,
      "outputs": []
    },
    {
      "cell_type": "code",
      "source": [
        "#print(classification_report(y_test,y_pred))"
      ],
      "metadata": {
        "execution": {
          "iopub.status.busy": "2023-07-16T15:57:39.5528Z",
          "iopub.status.idle": "2023-07-16T15:57:39.553153Z",
          "shell.execute_reply.started": "2023-07-16T15:57:39.55301Z",
          "shell.execute_reply": "2023-07-16T15:57:39.553025Z"
        },
        "trusted": true,
        "id": "iARqCv-St2Si"
      },
      "execution_count": null,
      "outputs": []
    },
    {
      "cell_type": "markdown",
      "source": [
        "# Boosting"
      ],
      "metadata": {
        "id": "9TvG_YjCt2Si"
      }
    },
    {
      "cell_type": "code",
      "source": [
        "#from sklearn.ensemble import AdaBoostClassifier\n",
        "\n",
        "#from sklearn.ensemble import GradientBoostingClassifier\n"
      ],
      "metadata": {
        "execution": {
          "iopub.status.busy": "2023-07-17T02:56:00.679543Z",
          "iopub.execute_input": "2023-07-17T02:56:00.680019Z",
          "iopub.status.idle": "2023-07-17T02:56:00.816179Z",
          "shell.execute_reply.started": "2023-07-17T02:56:00.679988Z",
          "shell.execute_reply": "2023-07-17T02:56:00.814947Z"
        },
        "trusted": true,
        "id": "3YWSpCo6t2Sj"
      },
      "execution_count": null,
      "outputs": []
    },
    {
      "cell_type": "code",
      "source": [
        "#ada_boost=Pipeline([('ada',AdaBoostClassifier(estimator=DT_clf,\n",
        "  #  random_state=42))])"
      ],
      "metadata": {
        "execution": {
          "iopub.status.busy": "2023-07-17T02:56:06.277158Z",
          "iopub.execute_input": "2023-07-17T02:56:06.277697Z",
          "iopub.status.idle": "2023-07-17T02:56:06.283612Z",
          "shell.execute_reply.started": "2023-07-17T02:56:06.27766Z",
          "shell.execute_reply": "2023-07-17T02:56:06.282139Z"
        },
        "trusted": true,
        "id": "19UdaIxmt2Sj"
      },
      "execution_count": null,
      "outputs": []
    },
    {
      "cell_type": "code",
      "source": [
        "#ada_boost.fit(x_train_encoded,y_train)"
      ],
      "metadata": {
        "execution": {
          "iopub.status.busy": "2023-07-16T15:57:39.559153Z",
          "iopub.status.idle": "2023-07-16T15:57:39.559695Z",
          "shell.execute_reply.started": "2023-07-16T15:57:39.55954Z",
          "shell.execute_reply": "2023-07-16T15:57:39.559555Z"
        },
        "trusted": true,
        "id": "fH-SyP6xt2Sk"
      },
      "execution_count": null,
      "outputs": []
    },
    {
      "cell_type": "code",
      "source": [
        "#y_pred=ada_boost.predict(x_test_encoded)"
      ],
      "metadata": {
        "execution": {
          "iopub.status.busy": "2023-07-16T15:57:39.560727Z",
          "iopub.status.idle": "2023-07-16T15:57:39.561245Z",
          "shell.execute_reply.started": "2023-07-16T15:57:39.561104Z",
          "shell.execute_reply": "2023-07-16T15:57:39.561119Z"
        },
        "trusted": true,
        "id": "3HaTqK6xt2Sk"
      },
      "execution_count": null,
      "outputs": []
    },
    {
      "cell_type": "code",
      "source": [
        "#print(\"Training Score:\",ada_boost.score(x_train_encoded,y_train))"
      ],
      "metadata": {
        "execution": {
          "iopub.status.busy": "2023-07-16T15:57:39.562337Z",
          "iopub.status.idle": "2023-07-16T15:57:39.562615Z",
          "shell.execute_reply.started": "2023-07-16T15:57:39.562481Z",
          "shell.execute_reply": "2023-07-16T15:57:39.562494Z"
        },
        "trusted": true,
        "id": "9YnDQiujt2Sk"
      },
      "execution_count": null,
      "outputs": []
    },
    {
      "cell_type": "code",
      "source": [
        "#print(\"Test Score:\",accuracy_score(y_test,y_pred))"
      ],
      "metadata": {
        "execution": {
          "iopub.status.busy": "2023-07-16T15:57:39.563375Z",
          "iopub.status.idle": "2023-07-16T15:57:39.563639Z",
          "shell.execute_reply.started": "2023-07-16T15:57:39.563509Z",
          "shell.execute_reply": "2023-07-16T15:57:39.563521Z"
        },
        "trusted": true,
        "id": "XsJZ9_pQt2Sl"
      },
      "execution_count": null,
      "outputs": []
    },
    {
      "cell_type": "code",
      "source": [
        "'''parameters={\n",
        "    'ada__n_estimators':[200,300,400,500,600,700,800,900],\n",
        "\n",
        "}\n",
        "ada_grid_search=GridSearchCV(ada_boost,\n",
        "                            param_grid=parameters,\n",
        "                            scoring='accuracy',cv=2,\n",
        "                            return_train_score=True,\n",
        "                            verbose=3)'''"
      ],
      "metadata": {
        "execution": {
          "iopub.status.busy": "2023-07-16T15:57:39.564479Z",
          "iopub.status.idle": "2023-07-16T15:57:39.564736Z",
          "shell.execute_reply.started": "2023-07-16T15:57:39.56461Z",
          "shell.execute_reply": "2023-07-16T15:57:39.564623Z"
        },
        "trusted": true,
        "id": "2v1309Zot2Sl"
      },
      "execution_count": null,
      "outputs": []
    },
    {
      "cell_type": "code",
      "source": [
        "#ada_grid_search.fit(x_train_encoded,y_train)"
      ],
      "metadata": {
        "execution": {
          "iopub.status.busy": "2023-07-16T15:57:39.565291Z",
          "iopub.status.idle": "2023-07-16T15:57:39.565532Z",
          "shell.execute_reply.started": "2023-07-16T15:57:39.565414Z",
          "shell.execute_reply": "2023-07-16T15:57:39.565425Z"
        },
        "trusted": true,
        "id": "06DXqzjRt2Sm"
      },
      "execution_count": null,
      "outputs": []
    },
    {
      "cell_type": "code",
      "source": [
        "#ada_grid_search.best_params_"
      ],
      "metadata": {
        "execution": {
          "iopub.status.busy": "2023-07-16T15:57:39.566158Z",
          "iopub.status.idle": "2023-07-16T15:57:39.566405Z",
          "shell.execute_reply.started": "2023-07-16T15:57:39.566282Z",
          "shell.execute_reply": "2023-07-16T15:57:39.566293Z"
        },
        "trusted": true,
        "id": "JSzcnEh4t2Sm"
      },
      "execution_count": null,
      "outputs": []
    },
    {
      "cell_type": "code",
      "source": [
        "'''parameters={\n",
        "    'ada__n_estimators':[800,900],\n",
        "    'ada__learning_rate':[1e-5,1e-4,1e-3,1e-2,1]\n",
        "}\n",
        "\n",
        "ada_grid_search=GridSearchCV(ada_boost,\n",
        "                            param_grid=parameters,\n",
        "                            scoring='accuracy',cv=2,\n",
        "                            return_train_score=True,\n",
        "                            verbose=3)'''\n"
      ],
      "metadata": {
        "execution": {
          "iopub.status.busy": "2023-07-17T02:56:24.901898Z",
          "iopub.execute_input": "2023-07-17T02:56:24.902405Z",
          "iopub.status.idle": "2023-07-17T02:56:24.910246Z",
          "shell.execute_reply.started": "2023-07-17T02:56:24.902373Z",
          "shell.execute_reply": "2023-07-17T02:56:24.908796Z"
        },
        "trusted": true,
        "id": "-ALgkIVot2Sn"
      },
      "execution_count": null,
      "outputs": []
    },
    {
      "cell_type": "code",
      "source": [
        "#ada_grid_search.fit(x_train_encoded,y_train)"
      ],
      "metadata": {
        "execution": {
          "iopub.status.busy": "2023-07-17T08:29:06.951864Z",
          "iopub.execute_input": "2023-07-17T08:29:06.952325Z",
          "iopub.status.idle": "2023-07-17T08:29:11.168771Z",
          "shell.execute_reply.started": "2023-07-17T08:29:06.952293Z",
          "shell.execute_reply": "2023-07-17T08:29:11.166433Z"
        },
        "trusted": true,
        "id": "-8gUpK0vt2Sn"
      },
      "execution_count": null,
      "outputs": []
    },
    {
      "cell_type": "code",
      "source": [
        "#ada_grid_search.best_params_"
      ],
      "metadata": {
        "trusted": true,
        "id": "ucPC3YQrt2So"
      },
      "execution_count": null,
      "outputs": []
    },
    {
      "cell_type": "code",
      "source": [
        "'''parameters={\n",
        "    'ada__n_estimators':[900],\n",
        "    'ada__learning_rate':[0.01]\n",
        "}\n",
        "\n",
        "ada_grid_search=GridSearchCV(ada_boost,\n",
        "                            param_grid=parameters,\n",
        "                            scoring='precision',cv=2,\n",
        "                            return_train_score=True,\n",
        "                            verbose=3)'''\n",
        "\n"
      ],
      "metadata": {
        "execution": {
          "iopub.status.busy": "2023-07-17T08:30:07.690168Z",
          "iopub.execute_input": "2023-07-17T08:30:07.690525Z",
          "iopub.status.idle": "2023-07-17T08:30:07.704871Z",
          "shell.execute_reply.started": "2023-07-17T08:30:07.690478Z",
          "shell.execute_reply": "2023-07-17T08:30:07.703303Z"
        },
        "trusted": true,
        "id": "IpCw7d0it2So"
      },
      "execution_count": null,
      "outputs": []
    },
    {
      "cell_type": "code",
      "source": [
        "#ada_grid_search.fit(x_train_encoded,y_train)"
      ],
      "metadata": {
        "execution": {
          "iopub.status.busy": "2023-07-17T08:31:05.541631Z",
          "iopub.execute_input": "2023-07-17T08:31:05.542066Z",
          "iopub.status.idle": "2023-07-17T09:24:52.060043Z",
          "shell.execute_reply.started": "2023-07-17T08:31:05.542038Z",
          "shell.execute_reply": "2023-07-17T09:24:52.059081Z"
        },
        "trusted": true,
        "id": "1zsiMe5At2Sp"
      },
      "execution_count": null,
      "outputs": []
    },
    {
      "cell_type": "code",
      "source": [
        "#y_pred=ada_grid_search.best_estimator_.predict(x_test_encoded)"
      ],
      "metadata": {
        "execution": {
          "iopub.status.busy": "2023-07-17T09:26:20.268557Z",
          "iopub.execute_input": "2023-07-17T09:26:20.26902Z",
          "iopub.status.idle": "2023-07-17T09:27:02.442672Z",
          "shell.execute_reply.started": "2023-07-17T09:26:20.268989Z",
          "shell.execute_reply": "2023-07-17T09:27:02.441148Z"
        },
        "trusted": true,
        "id": "9vLrLo0xt2Sp"
      },
      "execution_count": null,
      "outputs": []
    },
    {
      "cell_type": "code",
      "source": [
        "#print(\"Test Score:\",accuracy_score(y_test,y_pred))"
      ],
      "metadata": {
        "execution": {
          "iopub.status.busy": "2023-07-17T09:29:19.101928Z",
          "iopub.execute_input": "2023-07-17T09:29:19.102523Z",
          "iopub.status.idle": "2023-07-17T09:29:19.114961Z",
          "shell.execute_reply.started": "2023-07-17T09:29:19.102462Z",
          "shell.execute_reply": "2023-07-17T09:29:19.113651Z"
        },
        "trusted": true,
        "id": "pHxCBgTct2Sp"
      },
      "execution_count": null,
      "outputs": []
    },
    {
      "cell_type": "code",
      "source": [
        "#print(classification_report(y_test,y_pred))"
      ],
      "metadata": {
        "execution": {
          "iopub.status.busy": "2023-07-17T09:30:45.481603Z",
          "iopub.execute_input": "2023-07-17T09:30:45.484804Z",
          "iopub.status.idle": "2023-07-17T09:30:45.560861Z",
          "shell.execute_reply.started": "2023-07-17T09:30:45.484761Z",
          "shell.execute_reply": "2023-07-17T09:30:45.559886Z"
        },
        "trusted": true,
        "id": "wgveMIavt2Sq"
      },
      "execution_count": null,
      "outputs": []
    },
    {
      "cell_type": "code",
      "source": [
        "#from sklearn.metrics import ConfusionMatrixDisplay\n",
        "\n",
        "#cm_matrix=ConfusionMatrixDisplay.from_predictions(y_test,y_pred,values_format='.5g')\n",
        "#plt.grid(False)"
      ],
      "metadata": {
        "execution": {
          "iopub.status.busy": "2023-07-17T09:34:21.774363Z",
          "iopub.execute_input": "2023-07-17T09:34:21.774838Z",
          "iopub.status.idle": "2023-07-17T09:34:22.16748Z",
          "shell.execute_reply.started": "2023-07-17T09:34:21.774806Z",
          "shell.execute_reply": "2023-07-17T09:34:22.166068Z"
        },
        "trusted": true,
        "id": "f93ESASOt2Sq"
      },
      "execution_count": null,
      "outputs": []
    },
    {
      "cell_type": "markdown",
      "source": [
        "# GradientBoostingClassifier"
      ],
      "metadata": {
        "id": "mGSXvhdot2Sq"
      }
    },
    {
      "cell_type": "code",
      "source": [
        "#from sklearn.ensemble import GradientBoostingClassifier"
      ],
      "metadata": {
        "execution": {
          "iopub.status.busy": "2023-07-17T15:15:47.781274Z",
          "iopub.execute_input": "2023-07-17T15:15:47.781678Z",
          "iopub.status.idle": "2023-07-17T15:15:47.915407Z",
          "shell.execute_reply.started": "2023-07-17T15:15:47.781648Z",
          "shell.execute_reply": "2023-07-17T15:15:47.914087Z"
        },
        "trusted": true,
        "id": "HBiC-xlwt2Sr"
      },
      "execution_count": null,
      "outputs": []
    },
    {
      "cell_type": "code",
      "source": [
        "#gbc=Pipeline([('grbc',GradientBoostingClassifier(random_state=42))])"
      ],
      "metadata": {
        "execution": {
          "iopub.status.busy": "2023-07-17T15:15:52.136742Z",
          "iopub.execute_input": "2023-07-17T15:15:52.137132Z",
          "iopub.status.idle": "2023-07-17T15:15:52.14233Z",
          "shell.execute_reply.started": "2023-07-17T15:15:52.1371Z",
          "shell.execute_reply": "2023-07-17T15:15:52.141085Z"
        },
        "trusted": true,
        "id": "_H9odHPPt2Sr"
      },
      "execution_count": null,
      "outputs": []
    },
    {
      "cell_type": "code",
      "source": [
        "#gbc.fit(x_train_encoded,y_train)"
      ],
      "metadata": {
        "execution": {
          "iopub.status.busy": "2023-07-17T09:39:21.931863Z",
          "iopub.execute_input": "2023-07-17T09:39:21.932681Z",
          "iopub.status.idle": "2023-07-17T09:40:43.8468Z",
          "shell.execute_reply.started": "2023-07-17T09:39:21.932644Z",
          "shell.execute_reply": "2023-07-17T09:40:43.845523Z"
        },
        "trusted": true,
        "id": "EwIBMH6Zt2Sr"
      },
      "execution_count": null,
      "outputs": []
    },
    {
      "cell_type": "code",
      "source": [
        "#y_pred=gbc.predict(x_test_encoded)"
      ],
      "metadata": {
        "execution": {
          "iopub.status.busy": "2023-07-17T09:41:43.782153Z",
          "iopub.execute_input": "2023-07-17T09:41:43.782619Z",
          "iopub.status.idle": "2023-07-17T09:41:43.842092Z",
          "shell.execute_reply.started": "2023-07-17T09:41:43.782585Z",
          "shell.execute_reply": "2023-07-17T09:41:43.840578Z"
        },
        "trusted": true,
        "id": "nMpQzBsft2Sr"
      },
      "execution_count": null,
      "outputs": []
    },
    {
      "cell_type": "code",
      "source": [
        "#print(\"Training Score:\",gbc.score(x_train_encoded,y_train))"
      ],
      "metadata": {
        "execution": {
          "iopub.status.busy": "2023-07-17T09:43:35.473165Z",
          "iopub.execute_input": "2023-07-17T09:43:35.473695Z",
          "iopub.status.idle": "2023-07-17T09:43:35.648711Z",
          "shell.execute_reply.started": "2023-07-17T09:43:35.47366Z",
          "shell.execute_reply": "2023-07-17T09:43:35.647726Z"
        },
        "trusted": true,
        "id": "3v29j8KKt2Ss"
      },
      "execution_count": null,
      "outputs": []
    },
    {
      "cell_type": "code",
      "source": [
        "#print(\"Test Score:\",accuracy_score(y_test,y_pred))"
      ],
      "metadata": {
        "execution": {
          "iopub.status.busy": "2023-07-17T09:43:39.123668Z",
          "iopub.execute_input": "2023-07-17T09:43:39.12427Z",
          "iopub.status.idle": "2023-07-17T09:43:39.134751Z",
          "shell.execute_reply.started": "2023-07-17T09:43:39.12424Z",
          "shell.execute_reply": "2023-07-17T09:43:39.133333Z"
        },
        "trusted": true,
        "id": "-2rWt4ojt2Ss"
      },
      "execution_count": null,
      "outputs": []
    },
    {
      "cell_type": "code",
      "source": [
        "'''parameters={\n",
        "    'grbc__loss':['log_loss'],\n",
        "    'grbc__learning_rate':[1e-5,1e-4,1e-3,1e-2,1e-1,1]\n",
        "}\n",
        "\n",
        "gbc_grid_search=GridSearchCV(gbc,\n",
        "                            param_grid=parameters,\n",
        "                            scoring='precision',\n",
        "                             cv=2,\n",
        "                            return_train_score=True,\n",
        "                            error_score=0,\n",
        "                            verbose=3)'''"
      ],
      "metadata": {
        "execution": {
          "iopub.status.busy": "2023-07-17T11:27:15.610839Z",
          "iopub.execute_input": "2023-07-17T11:27:15.6113Z",
          "iopub.status.idle": "2023-07-17T11:27:15.618584Z",
          "shell.execute_reply.started": "2023-07-17T11:27:15.611268Z",
          "shell.execute_reply": "2023-07-17T11:27:15.617124Z"
        },
        "trusted": true,
        "id": "K_hQiBmXt2Ss"
      },
      "execution_count": null,
      "outputs": []
    },
    {
      "cell_type": "code",
      "source": [
        "#gbc_grid_search.fit(x_train_encoded,y_train)"
      ],
      "metadata": {
        "execution": {
          "iopub.status.busy": "2023-07-17T11:27:19.989058Z",
          "iopub.execute_input": "2023-07-17T11:27:19.989473Z",
          "iopub.status.idle": "2023-07-17T11:37:13.102463Z",
          "shell.execute_reply.started": "2023-07-17T11:27:19.989443Z",
          "shell.execute_reply": "2023-07-17T11:37:13.101312Z"
        },
        "trusted": true,
        "id": "pnnYvpfft2Ss"
      },
      "execution_count": null,
      "outputs": []
    },
    {
      "cell_type": "code",
      "source": [
        "#gbc_grid_search.best_params_"
      ],
      "metadata": {
        "execution": {
          "iopub.status.busy": "2023-07-17T11:38:50.339923Z",
          "iopub.execute_input": "2023-07-17T11:38:50.340454Z",
          "iopub.status.idle": "2023-07-17T11:38:50.348412Z",
          "shell.execute_reply.started": "2023-07-17T11:38:50.340421Z",
          "shell.execute_reply": "2023-07-17T11:38:50.346975Z"
        },
        "trusted": true,
        "id": "mxQdLoeLt2St"
      },
      "execution_count": null,
      "outputs": []
    },
    {
      "cell_type": "code",
      "source": [
        "'''parameters={\n",
        "    'grbc__loss':['log_loss'],\n",
        "    'grbc__learning_rate':[1],\n",
        "    'grbc__n_estimators':[100,300,500,700,900,1100,1300,1500]\n",
        "}\n",
        "\n",
        "gbc_grid_search=GridSearchCV(gbc,\n",
        "                            param_grid=parameters,\n",
        "                            scoring='precision',\n",
        "                             cv=2,\n",
        "                            return_train_score=True,\n",
        "                            error_score=0,\n",
        "                            verbose=3)'''"
      ],
      "metadata": {
        "execution": {
          "iopub.status.busy": "2023-07-17T12:31:01.669548Z",
          "iopub.execute_input": "2023-07-17T12:31:01.671149Z",
          "iopub.status.idle": "2023-07-17T12:31:01.679989Z",
          "shell.execute_reply.started": "2023-07-17T12:31:01.671078Z",
          "shell.execute_reply": "2023-07-17T12:31:01.678248Z"
        },
        "trusted": true,
        "id": "-0Ob0gSJt2St"
      },
      "execution_count": null,
      "outputs": []
    },
    {
      "cell_type": "code",
      "source": [
        "#gbc_grid_search.fit(x_train_encoded,y_train)"
      ],
      "metadata": {
        "execution": {
          "iopub.status.busy": "2023-07-17T12:31:13.167847Z",
          "iopub.execute_input": "2023-07-17T12:31:13.168284Z"
        },
        "trusted": true,
        "id": "9MGDd2met2St"
      },
      "execution_count": null,
      "outputs": []
    },
    {
      "cell_type": "code",
      "source": [
        "#gbc_grid_search.best_params_"
      ],
      "metadata": {
        "execution": {
          "iopub.status.busy": "2023-07-17T14:24:32.477412Z",
          "iopub.execute_input": "2023-07-17T14:24:32.477876Z",
          "iopub.status.idle": "2023-07-17T14:24:32.488362Z",
          "shell.execute_reply.started": "2023-07-17T14:24:32.477844Z",
          "shell.execute_reply": "2023-07-17T14:24:32.485218Z"
        },
        "trusted": true,
        "id": "b0KMDt_Wt2St"
      },
      "execution_count": null,
      "outputs": []
    },
    {
      "cell_type": "code",
      "source": [
        "'''parameters={\n",
        "    'grbc__loss':['log_loss'],\n",
        "    'grbc__learning_rate':[1],\n",
        "    'grbc__n_estimators':[900],\n",
        "    'grbc__max_features':['sqrt','log2'],\n",
        "    'grbc__warm_start':[True]\n",
        "\n",
        "}\n",
        "\n",
        "gbc_grid_search=GridSearchCV(gbc,\n",
        "                            param_grid=parameters,\n",
        "                            scoring='precision',\n",
        "                             cv=2,\n",
        "                            return_train_score=True,\n",
        "                            error_score=0,\n",
        "                            verbose=3)'''"
      ],
      "metadata": {
        "execution": {
          "iopub.status.busy": "2023-07-17T15:17:24.92112Z",
          "iopub.execute_input": "2023-07-17T15:17:24.921535Z",
          "iopub.status.idle": "2023-07-17T15:17:24.928716Z",
          "shell.execute_reply.started": "2023-07-17T15:17:24.921505Z",
          "shell.execute_reply": "2023-07-17T15:17:24.927444Z"
        },
        "trusted": true,
        "id": "NL25UoLot2Su"
      },
      "execution_count": null,
      "outputs": []
    },
    {
      "cell_type": "code",
      "source": [
        "#gbc_grid_search.fit(x_train_encoded,y_train)"
      ],
      "metadata": {
        "execution": {
          "iopub.status.busy": "2023-07-17T15:17:28.598654Z",
          "iopub.execute_input": "2023-07-17T15:17:28.599045Z",
          "iopub.status.idle": "2023-07-17T15:19:58.284037Z",
          "shell.execute_reply.started": "2023-07-17T15:17:28.599013Z",
          "shell.execute_reply": "2023-07-17T15:19:58.2826Z"
        },
        "trusted": true,
        "id": "bBclMOeYt2Su"
      },
      "execution_count": null,
      "outputs": []
    },
    {
      "cell_type": "code",
      "source": [
        "#gbc_grid_search.best_params_"
      ],
      "metadata": {
        "execution": {
          "iopub.status.busy": "2023-07-17T14:33:23.367761Z",
          "iopub.execute_input": "2023-07-17T14:33:23.368819Z",
          "iopub.status.idle": "2023-07-17T14:33:23.375519Z",
          "shell.execute_reply.started": "2023-07-17T14:33:23.368775Z",
          "shell.execute_reply": "2023-07-17T14:33:23.374193Z"
        },
        "trusted": true,
        "id": "lVeSxaTet2Sv"
      },
      "execution_count": null,
      "outputs": []
    },
    {
      "cell_type": "code",
      "source": [
        "#print(\"Training score\",gbc_grid_search.best_estimator_.score(x_train_encoded,y_train))"
      ],
      "metadata": {
        "execution": {
          "iopub.status.busy": "2023-07-17T14:46:54.512663Z",
          "iopub.execute_input": "2023-07-17T14:46:54.513107Z",
          "iopub.status.idle": "2023-07-17T14:46:55.697918Z",
          "shell.execute_reply.started": "2023-07-17T14:46:54.513075Z",
          "shell.execute_reply": "2023-07-17T14:46:55.69636Z"
        },
        "trusted": true,
        "id": "sk0mOa1ot2Sv"
      },
      "execution_count": null,
      "outputs": []
    },
    {
      "cell_type": "code",
      "source": [
        "#y_pred=gbc_grid_search.best_estimator_.predict(x_test_encoded)\n"
      ],
      "metadata": {
        "execution": {
          "iopub.status.busy": "2023-07-17T14:47:43.330092Z",
          "iopub.execute_input": "2023-07-17T14:47:43.331685Z",
          "iopub.status.idle": "2023-07-17T14:47:43.733837Z",
          "shell.execute_reply.started": "2023-07-17T14:47:43.331628Z",
          "shell.execute_reply": "2023-07-17T14:47:43.732264Z"
        },
        "trusted": true,
        "id": "eKLcwYp5t2Sw"
      },
      "execution_count": null,
      "outputs": []
    },
    {
      "cell_type": "code",
      "source": [
        "#print(\"Test Score:\",accuracy_score(y_test,y_pred))"
      ],
      "metadata": {
        "execution": {
          "iopub.status.busy": "2023-07-17T14:48:19.0019Z",
          "iopub.execute_input": "2023-07-17T14:48:19.003093Z",
          "iopub.status.idle": "2023-07-17T14:48:19.014163Z",
          "shell.execute_reply.started": "2023-07-17T14:48:19.003049Z",
          "shell.execute_reply": "2023-07-17T14:48:19.012692Z"
        },
        "trusted": true,
        "id": "i9f-wZDFt2Sw"
      },
      "execution_count": null,
      "outputs": []
    },
    {
      "cell_type": "code",
      "source": [
        "#print(classification_report(y_test,y_pred))"
      ],
      "metadata": {
        "execution": {
          "iopub.status.busy": "2023-07-17T14:49:29.707929Z",
          "iopub.execute_input": "2023-07-17T14:49:29.708402Z",
          "iopub.status.idle": "2023-07-17T14:49:29.788884Z",
          "shell.execute_reply.started": "2023-07-17T14:49:29.708367Z",
          "shell.execute_reply": "2023-07-17T14:49:29.787395Z"
        },
        "trusted": true,
        "id": "_KLmWkJ1t2Sx"
      },
      "execution_count": null,
      "outputs": []
    },
    {
      "cell_type": "code",
      "source": [
        "#from sklearn.metrics import ConfusionMatrixDisplay\n",
        "\n",
        "#cm_matrix=ConfusionMatrixDisplay.from_predictions(y_test,y_pred,values_format='.5g')\n",
        "#plt.grid(False)"
      ],
      "metadata": {
        "execution": {
          "iopub.status.busy": "2023-07-17T14:50:01.678874Z",
          "iopub.execute_input": "2023-07-17T14:50:01.679383Z",
          "iopub.status.idle": "2023-07-17T14:50:02.034093Z",
          "shell.execute_reply.started": "2023-07-17T14:50:01.679351Z",
          "shell.execute_reply": "2023-07-17T14:50:02.032851Z"
        },
        "trusted": true,
        "id": "XOVK1E9Nt2S4"
      },
      "execution_count": null,
      "outputs": []
    },
    {
      "cell_type": "markdown",
      "source": [
        "# XGBoost"
      ],
      "metadata": {
        "id": "3triY_wut2S6"
      }
    },
    {
      "cell_type": "code",
      "source": [
        "#from xgboost import XGBClassifier"
      ],
      "metadata": {
        "execution": {
          "iopub.status.busy": "2023-07-18T02:58:57.724092Z",
          "iopub.execute_input": "2023-07-18T02:58:57.724557Z",
          "iopub.status.idle": "2023-07-18T02:58:57.870745Z",
          "shell.execute_reply.started": "2023-07-18T02:58:57.724498Z",
          "shell.execute_reply": "2023-07-18T02:58:57.869742Z"
        },
        "trusted": true,
        "id": "XnI2fhJyt2S6"
      },
      "execution_count": null,
      "outputs": []
    },
    {
      "cell_type": "code",
      "source": [
        "#xgb_clf=Pipeline([('xgb',XGBClassifier(random_state=42))])"
      ],
      "metadata": {
        "execution": {
          "iopub.status.busy": "2023-07-18T02:59:03.834244Z",
          "iopub.execute_input": "2023-07-18T02:59:03.834635Z",
          "iopub.status.idle": "2023-07-18T02:59:03.83947Z",
          "shell.execute_reply.started": "2023-07-18T02:59:03.834604Z",
          "shell.execute_reply": "2023-07-18T02:59:03.838484Z"
        },
        "trusted": true,
        "id": "tbcjfpZet2TD"
      },
      "execution_count": null,
      "outputs": []
    },
    {
      "cell_type": "code",
      "source": [
        "#xgb_clf.fit(x_train_encoded,y_train)"
      ],
      "metadata": {
        "execution": {
          "iopub.status.busy": "2023-07-17T16:13:41.471079Z",
          "iopub.execute_input": "2023-07-17T16:13:41.47148Z",
          "iopub.status.idle": "2023-07-17T16:14:08.697317Z",
          "shell.execute_reply.started": "2023-07-17T16:13:41.471451Z",
          "shell.execute_reply": "2023-07-17T16:14:08.694594Z"
        },
        "trusted": true,
        "id": "frbTNSdvt2TD"
      },
      "execution_count": null,
      "outputs": []
    },
    {
      "cell_type": "code",
      "source": [
        "#print(\"Training Score:\",xgb_clf.score(x_train_encoded,y_train))"
      ],
      "metadata": {
        "execution": {
          "iopub.status.busy": "2023-07-17T16:14:59.971343Z",
          "iopub.execute_input": "2023-07-17T16:14:59.972201Z",
          "iopub.status.idle": "2023-07-17T16:15:00.177353Z",
          "shell.execute_reply.started": "2023-07-17T16:14:59.972097Z",
          "shell.execute_reply": "2023-07-17T16:15:00.175036Z"
        },
        "trusted": true,
        "id": "zrqNgz-At2TG"
      },
      "execution_count": null,
      "outputs": []
    },
    {
      "cell_type": "code",
      "source": [
        "#y_pred=xgb_clf.predict(x_test_encoded)"
      ],
      "metadata": {
        "execution": {
          "iopub.status.busy": "2023-07-17T16:15:47.656204Z",
          "iopub.execute_input": "2023-07-17T16:15:47.656612Z",
          "iopub.status.idle": "2023-07-17T16:15:47.79634Z",
          "shell.execute_reply.started": "2023-07-17T16:15:47.656578Z",
          "shell.execute_reply": "2023-07-17T16:15:47.795339Z"
        },
        "trusted": true,
        "id": "7FFqhYYwt2TG"
      },
      "execution_count": null,
      "outputs": []
    },
    {
      "cell_type": "code",
      "source": [
        "#print(classification_report(y_test,y_pred))"
      ],
      "metadata": {
        "execution": {
          "iopub.status.busy": "2023-07-17T16:16:42.780982Z",
          "iopub.execute_input": "2023-07-17T16:16:42.781387Z",
          "iopub.status.idle": "2023-07-17T16:16:42.855925Z",
          "shell.execute_reply.started": "2023-07-17T16:16:42.781357Z",
          "shell.execute_reply": "2023-07-17T16:16:42.855046Z"
        },
        "trusted": true,
        "id": "d3tHhp3zt2TG"
      },
      "execution_count": null,
      "outputs": []
    },
    {
      "cell_type": "code",
      "source": [
        "'''parameters={\n",
        "    'xgb__learning_rate':[0.975],\n",
        "    'xgb__gamma':[4],\n",
        "    'xgb__min_child_weight':[1],\n",
        "    'xgb__subsample':[0.9],\n",
        "    'xgb__max_depth':[70],\n",
        "    'xgb__max_delta_step':[0],\n",
        "    'xgb__lambda':[1],\n",
        "    'xgb__alpha':[0],\n",
        "    'xgb__tree_method':['approx'],\n",
        "    'xgb__objective':['binary:logitraw'],\n",
        "    'xgb__max_bin':[16],\n",
        "    'xgb__nthread':[1],\n",
        "    'xgb__base_score':[0.5],\n",
        "    'xgb__n_estimators':[100],\n",
        "    'xgb__booster':['gbtree']\n",
        "\n",
        "}\n",
        "\n",
        "\n",
        "xgb_grid_search=GridSearchCV(xgb_clf,param_grid=parameters,\n",
        "                            scoring='precision',error_score=0,\n",
        "                             cv=2,\n",
        "                            verbose=3,return_train_score=True)'''"
      ],
      "metadata": {
        "execution": {
          "iopub.status.busy": "2023-07-18T08:34:14.690245Z",
          "iopub.execute_input": "2023-07-18T08:34:14.690747Z",
          "iopub.status.idle": "2023-07-18T08:34:14.698291Z",
          "shell.execute_reply.started": "2023-07-18T08:34:14.690711Z",
          "shell.execute_reply": "2023-07-18T08:34:14.69716Z"
        },
        "trusted": true,
        "id": "tQGyexuVt2TK"
      },
      "execution_count": null,
      "outputs": []
    },
    {
      "cell_type": "code",
      "source": [
        "#xgb_grid_search.fit(x_train_encoded,y_train)"
      ],
      "metadata": {
        "execution": {
          "iopub.status.busy": "2023-07-18T08:34:18.899422Z",
          "iopub.execute_input": "2023-07-18T08:34:18.899807Z",
          "iopub.status.idle": "2023-07-18T08:41:36.908144Z",
          "shell.execute_reply.started": "2023-07-18T08:34:18.899765Z",
          "shell.execute_reply": "2023-07-18T08:41:36.906867Z"
        },
        "trusted": true,
        "id": "CO6eG-SAt2TL"
      },
      "execution_count": null,
      "outputs": []
    },
    {
      "cell_type": "code",
      "source": [
        "#xgb_grid_search.best_params_"
      ],
      "metadata": {
        "execution": {
          "iopub.status.busy": "2023-07-18T08:42:12.269949Z",
          "iopub.execute_input": "2023-07-18T08:42:12.270317Z",
          "iopub.status.idle": "2023-07-18T08:42:12.277312Z",
          "shell.execute_reply.started": "2023-07-18T08:42:12.270287Z",
          "shell.execute_reply": "2023-07-18T08:42:12.276286Z"
        },
        "trusted": true,
        "id": "a1HF13DMt2TL"
      },
      "execution_count": null,
      "outputs": []
    },
    {
      "cell_type": "code",
      "source": [
        "#print(xgb_grid_search.best_score_)\n",
        "#print(xgb_grid_search.best_estimator_)"
      ],
      "metadata": {
        "execution": {
          "iopub.status.busy": "2023-07-18T08:42:16.634878Z",
          "iopub.execute_input": "2023-07-18T08:42:16.63523Z",
          "iopub.status.idle": "2023-07-18T08:42:16.645424Z",
          "shell.execute_reply.started": "2023-07-18T08:42:16.635201Z",
          "shell.execute_reply": "2023-07-18T08:42:16.644239Z"
        },
        "trusted": true,
        "id": "DVQEcE5Wt2TL"
      },
      "execution_count": null,
      "outputs": []
    },
    {
      "cell_type": "code",
      "source": [
        "#print(\"Training Score:\",xgb_grid_search.best_estimator_.score(x_train_encoded,y_train))"
      ],
      "metadata": {
        "execution": {
          "iopub.status.busy": "2023-07-18T08:42:20.870761Z",
          "iopub.execute_input": "2023-07-18T08:42:20.871124Z",
          "iopub.status.idle": "2023-07-18T08:42:25.641239Z",
          "shell.execute_reply.started": "2023-07-18T08:42:20.871097Z",
          "shell.execute_reply": "2023-07-18T08:42:25.640067Z"
        },
        "trusted": true,
        "id": "KqGPewLQt2TM"
      },
      "execution_count": null,
      "outputs": []
    },
    {
      "cell_type": "code",
      "source": [
        "#y_pred=xgb_grid_search.best_estimator_.predict(x_test_encoded)"
      ],
      "metadata": {
        "execution": {
          "iopub.status.busy": "2023-07-18T08:42:34.3264Z",
          "iopub.execute_input": "2023-07-18T08:42:34.326792Z",
          "iopub.status.idle": "2023-07-18T08:42:35.947453Z",
          "shell.execute_reply.started": "2023-07-18T08:42:34.326763Z",
          "shell.execute_reply": "2023-07-18T08:42:35.946662Z"
        },
        "trusted": true,
        "id": "hBNSGh2qt2TM"
      },
      "execution_count": null,
      "outputs": []
    },
    {
      "cell_type": "code",
      "source": [
        "#print(\"Test Score\",accuracy_score(y_test,y_pred))"
      ],
      "metadata": {
        "execution": {
          "iopub.status.busy": "2023-07-18T08:43:04.600465Z",
          "iopub.execute_input": "2023-07-18T08:43:04.601441Z",
          "iopub.status.idle": "2023-07-18T08:43:04.611725Z",
          "shell.execute_reply.started": "2023-07-18T08:43:04.601373Z",
          "shell.execute_reply": "2023-07-18T08:43:04.610663Z"
        },
        "trusted": true,
        "id": "blQcGcVjt2TN"
      },
      "execution_count": null,
      "outputs": []
    },
    {
      "cell_type": "code",
      "source": [
        "#print(classification_report(y_test,y_pred))"
      ],
      "metadata": {
        "execution": {
          "iopub.status.busy": "2023-07-18T08:44:35.116637Z",
          "iopub.execute_input": "2023-07-18T08:44:35.117028Z",
          "iopub.status.idle": "2023-07-18T08:44:35.194381Z",
          "shell.execute_reply.started": "2023-07-18T08:44:35.116996Z",
          "shell.execute_reply": "2023-07-18T08:44:35.193347Z"
        },
        "trusted": true,
        "id": "y3fWjJwlt2TN"
      },
      "execution_count": null,
      "outputs": []
    },
    {
      "cell_type": "code",
      "source": [
        "#from sklearn.metrics import ConfusionMatrixDisplay\n",
        "#ConfusionMatrixDisplay.from_predictions(y_test,y_pred)\n",
        "#plt.grid(False)"
      ],
      "metadata": {
        "execution": {
          "iopub.status.busy": "2023-07-18T08:46:50.873738Z",
          "iopub.execute_input": "2023-07-18T08:46:50.874126Z",
          "iopub.status.idle": "2023-07-18T08:46:51.184905Z",
          "shell.execute_reply.started": "2023-07-18T08:46:50.874095Z",
          "shell.execute_reply": "2023-07-18T08:46:51.183874Z"
        },
        "trusted": true,
        "id": "9fzQLrhEt2TN"
      },
      "execution_count": null,
      "outputs": []
    },
    {
      "cell_type": "markdown",
      "source": [
        "# MLPClassifier"
      ],
      "metadata": {
        "id": "IUZpqiHnt2TN"
      }
    },
    {
      "cell_type": "code",
      "source": [
        "#from sklearn.neural_network import MLPClassifier"
      ],
      "metadata": {
        "execution": {
          "iopub.status.busy": "2023-07-18T10:18:05.930975Z",
          "iopub.execute_input": "2023-07-18T10:18:05.931366Z",
          "iopub.status.idle": "2023-07-18T10:18:06.522357Z",
          "shell.execute_reply.started": "2023-07-18T10:18:05.93134Z",
          "shell.execute_reply": "2023-07-18T10:18:06.521385Z"
        },
        "trusted": true,
        "id": "3MRsL8jdt2TO"
      },
      "execution_count": null,
      "outputs": []
    },
    {
      "cell_type": "code",
      "source": [
        "'''mlp_clf=Pipeline([('mlp',MLPClassifier(hidden_layer_sizes=(6,5),\n",
        "                                      solver='sgd',\n",
        "                                      learning_rate_init=0.01,\n",
        "                                       tol=1e-3,warm_start=True,\n",
        "                                       early_stopping=True,\n",
        "                                       validation_fraction=0.2,\n",
        "                                       max_iter=100,\n",
        "                                      verbose=True))])'''"
      ],
      "metadata": {
        "execution": {
          "iopub.status.busy": "2023-07-18T10:59:46.334942Z",
          "iopub.execute_input": "2023-07-18T10:59:46.33537Z",
          "iopub.status.idle": "2023-07-18T10:59:46.341586Z",
          "shell.execute_reply.started": "2023-07-18T10:59:46.335337Z",
          "shell.execute_reply": "2023-07-18T10:59:46.340304Z"
        },
        "trusted": true,
        "id": "AA5iHV5Dt2TP"
      },
      "execution_count": null,
      "outputs": []
    },
    {
      "cell_type": "code",
      "source": [
        "#mlp_clf.fit(x_train_encoded,y_train)"
      ],
      "metadata": {
        "execution": {
          "iopub.status.busy": "2023-07-18T10:59:51.073099Z",
          "iopub.execute_input": "2023-07-18T10:59:51.073532Z",
          "iopub.status.idle": "2023-07-18T11:00:25.909982Z",
          "shell.execute_reply.started": "2023-07-18T10:59:51.073499Z",
          "shell.execute_reply": "2023-07-18T11:00:25.908829Z"
        },
        "trusted": true,
        "id": "aAd80Gnet2TP"
      },
      "execution_count": null,
      "outputs": []
    },
    {
      "cell_type": "code",
      "source": [
        "#y_pred=mlp_clf.predict(x_test_encoded)"
      ],
      "metadata": {
        "execution": {
          "iopub.status.busy": "2023-07-18T11:02:40.074733Z",
          "iopub.execute_input": "2023-07-18T11:02:40.075159Z",
          "iopub.status.idle": "2023-07-18T11:02:40.095683Z",
          "shell.execute_reply.started": "2023-07-18T11:02:40.075127Z",
          "shell.execute_reply": "2023-07-18T11:02:40.093401Z"
        },
        "trusted": true,
        "id": "bwewmDCyt2TP"
      },
      "execution_count": null,
      "outputs": []
    },
    {
      "cell_type": "code",
      "source": [
        "#print(\"Training Score:\",mlp_clf.score(x_train_encoded,y_train))"
      ],
      "metadata": {
        "execution": {
          "iopub.status.busy": "2023-07-18T11:04:53.802583Z",
          "iopub.execute_input": "2023-07-18T11:04:53.802997Z",
          "iopub.status.idle": "2023-07-18T11:04:53.883637Z",
          "shell.execute_reply.started": "2023-07-18T11:04:53.802966Z",
          "shell.execute_reply": "2023-07-18T11:04:53.882271Z"
        },
        "trusted": true,
        "id": "btjOYoMjt2TP"
      },
      "execution_count": null,
      "outputs": []
    },
    {
      "cell_type": "code",
      "source": [
        "#print(\"Test Score\",accuracy_score(y_test,y_pred))"
      ],
      "metadata": {
        "execution": {
          "iopub.status.busy": "2023-07-18T11:03:30.793888Z",
          "iopub.execute_input": "2023-07-18T11:03:30.794274Z",
          "iopub.status.idle": "2023-07-18T11:03:30.804307Z",
          "shell.execute_reply.started": "2023-07-18T11:03:30.794246Z",
          "shell.execute_reply": "2023-07-18T11:03:30.802955Z"
        },
        "trusted": true,
        "id": "JjkfZWdUt2TQ"
      },
      "execution_count": null,
      "outputs": []
    },
    {
      "cell_type": "code",
      "source": [],
      "metadata": {
        "id": "uJXKccKat2TQ"
      },
      "execution_count": null,
      "outputs": []
    },
    {
      "cell_type": "code",
      "source": [
        "test_data.head(5)"
      ],
      "metadata": {
        "execution": {
          "iopub.status.busy": "2023-07-17T17:30:03.344683Z",
          "iopub.execute_input": "2023-07-17T17:30:03.345074Z",
          "iopub.status.idle": "2023-07-17T17:30:03.385477Z",
          "shell.execute_reply.started": "2023-07-17T17:30:03.345045Z",
          "shell.execute_reply": "2023-07-17T17:30:03.383286Z"
        },
        "trusted": true,
        "id": "qiTOi2k0t2TR"
      },
      "execution_count": null,
      "outputs": []
    },
    {
      "cell_type": "code",
      "source": [
        "test_data['reviewText']=test_data['reviewText'].astype(str)\n"
      ],
      "metadata": {
        "trusted": true,
        "id": "bjMLW6o4t2TR"
      },
      "execution_count": null,
      "outputs": []
    },
    {
      "cell_type": "code",
      "source": [
        "test_data=test_data['reviewText']"
      ],
      "metadata": {
        "execution": {
          "iopub.status.busy": "2023-07-16T15:57:39.573323Z",
          "iopub.status.idle": "2023-07-16T15:57:39.573648Z",
          "shell.execute_reply.started": "2023-07-16T15:57:39.573494Z",
          "shell.execute_reply": "2023-07-16T15:57:39.573508Z"
        },
        "trusted": true,
        "id": "WP5E4_Kct2TR"
      },
      "execution_count": null,
      "outputs": []
    },
    {
      "cell_type": "code",
      "source": [
        "test_data_encoded=tfidf.transform(test_data)"
      ],
      "metadata": {
        "execution": {
          "iopub.status.busy": "2023-07-16T15:57:39.574767Z",
          "iopub.status.idle": "2023-07-16T15:57:39.575088Z",
          "shell.execute_reply.started": "2023-07-16T15:57:39.574946Z",
          "shell.execute_reply": "2023-07-16T15:57:39.574961Z"
        },
        "trusted": true,
        "id": "_IvjD8DBt2TS"
      },
      "execution_count": null,
      "outputs": []
    },
    {
      "cell_type": "code",
      "source": [
        "prediction=logistic_regression.predict(test_data_encoded)"
      ],
      "metadata": {
        "execution": {
          "iopub.status.busy": "2023-07-16T15:57:39.576174Z",
          "iopub.status.idle": "2023-07-16T15:57:39.576472Z",
          "shell.execute_reply.started": "2023-07-16T15:57:39.576335Z",
          "shell.execute_reply": "2023-07-16T15:57:39.576348Z"
        },
        "trusted": true,
        "id": "2yimnFmQt2TS"
      },
      "execution_count": null,
      "outputs": []
    },
    {
      "cell_type": "code",
      "source": [
        "prediction"
      ],
      "metadata": {
        "execution": {
          "iopub.status.busy": "2023-07-16T15:57:39.577171Z",
          "iopub.status.idle": "2023-07-16T15:57:39.577435Z",
          "shell.execute_reply.started": "2023-07-16T15:57:39.577303Z",
          "shell.execute_reply": "2023-07-16T15:57:39.577314Z"
        },
        "trusted": true,
        "id": "Mjht3oRTt2TS"
      },
      "execution_count": null,
      "outputs": []
    },
    {
      "cell_type": "code",
      "source": [
        "prediction=np.where(prediction==1,'POSITIVE','NEGATIVE')"
      ],
      "metadata": {
        "execution": {
          "iopub.status.busy": "2023-07-16T15:57:39.578302Z",
          "iopub.status.idle": "2023-07-16T15:57:39.578546Z",
          "shell.execute_reply.started": "2023-07-16T15:57:39.578424Z",
          "shell.execute_reply": "2023-07-16T15:57:39.578435Z"
        },
        "trusted": true,
        "id": "I3NPno2it2TS"
      },
      "execution_count": null,
      "outputs": []
    },
    {
      "cell_type": "code",
      "source": [
        "prediction"
      ],
      "metadata": {
        "execution": {
          "iopub.status.busy": "2023-07-16T15:57:39.579054Z",
          "iopub.status.idle": "2023-07-16T15:57:39.5793Z",
          "shell.execute_reply.started": "2023-07-16T15:57:39.579172Z",
          "shell.execute_reply": "2023-07-16T15:57:39.579184Z"
        },
        "trusted": true,
        "id": "mnlBFZ9kt2TS"
      },
      "execution_count": null,
      "outputs": []
    },
    {
      "cell_type": "code",
      "source": [
        "index=list(np.arange(len(test_data)))"
      ],
      "metadata": {
        "execution": {
          "iopub.status.busy": "2023-07-16T15:57:39.580261Z",
          "iopub.status.idle": "2023-07-16T15:57:39.580505Z",
          "shell.execute_reply.started": "2023-07-16T15:57:39.580384Z",
          "shell.execute_reply": "2023-07-16T15:57:39.580396Z"
        },
        "trusted": true,
        "id": "NeLdxq3Ut2TT"
      },
      "execution_count": null,
      "outputs": []
    },
    {
      "cell_type": "code",
      "source": [
        "submission=pd.DataFrame({'id':index,'sentiment':prediction.flatten()})\n",
        "\n"
      ],
      "metadata": {
        "execution": {
          "iopub.status.busy": "2023-07-16T15:57:39.581079Z",
          "iopub.status.idle": "2023-07-16T15:57:39.581321Z",
          "shell.execute_reply.started": "2023-07-16T15:57:39.581197Z",
          "shell.execute_reply": "2023-07-16T15:57:39.581211Z"
        },
        "trusted": true,
        "id": "fd_Y4VQCt2TT"
      },
      "execution_count": null,
      "outputs": []
    },
    {
      "cell_type": "code",
      "source": [
        "submission"
      ],
      "metadata": {
        "execution": {
          "iopub.status.busy": "2023-07-16T15:57:39.582129Z",
          "iopub.status.idle": "2023-07-16T15:57:39.582387Z",
          "shell.execute_reply.started": "2023-07-16T15:57:39.582258Z",
          "shell.execute_reply": "2023-07-16T15:57:39.582272Z"
        },
        "trusted": true,
        "id": "-Wqg_YXpt2TT"
      },
      "execution_count": null,
      "outputs": []
    },
    {
      "cell_type": "code",
      "source": [
        "submission.to_csv('submission.csv',index=False)"
      ],
      "metadata": {
        "execution": {
          "iopub.status.busy": "2023-07-16T15:57:39.583311Z",
          "iopub.status.idle": "2023-07-16T15:57:39.583555Z",
          "shell.execute_reply.started": "2023-07-16T15:57:39.583433Z",
          "shell.execute_reply": "2023-07-16T15:57:39.583445Z"
        },
        "trusted": true,
        "id": "E8gPWgamt2TT"
      },
      "execution_count": null,
      "outputs": []
    }
  ]
}